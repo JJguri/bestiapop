{
 "cells": [
  {
   "cell_type": "markdown",
   "metadata": {},
   "source": [
    "## BestiaPop: argument explanation\n",
    "\n",
    "#### _<font color='chartreuse'>action</font>_\n",
    "* **OPTION 1:** `download-nc4-file`: it will only download a particular NetCDF4 file from the cloud to your local disk, the source can be specified with the `data_source` parameter.\n",
    "* **OPTION 2:** `convert-nc4`: it will only convert a local or cloud file from NC4 format to the output format specified with `output_type`.\n",
    "* **OPTION 3:** `generate-climate-file`: the default action, it will generate a particular climate file (MET for APSIM, WTH for DSSAT or csv) using the parameters passed in as years, climate variable, etc.\n",
    "\n",
    "#### _<font color='chartreuse'>coordinate_list</font>_\n",
    "It will look for the closest grid cell of 0.5° for nasapower and 0.05° for silo data.\n",
    "* **OPTION 1:** [ [ lat , lon ]...]\n",
    "* **OPTION 2:** lists of lat/lon pairs where the first value is `latitude` and the second value is `longitude` (you need to host your lat/lon list as a file in some web server and then provide the url)\n",
    "\n",
    "#### _<font color='chartreuse'>data_source</font>_\n",
    "`silo` (Australia only) or `nasapower` (world wide).\n",
    "\n",
    "#### _<font color='chartreuse'>input_path</font>_\n",
    "If the NetCDF files to be processed are stored locally, this path will be used to look for all the files required to extract data from the different year, latitude and longitude ranges.\n",
    "\n",
    "#### _<font color='chartreuse'>climate_variables</font>_\n",
    "`'radiation'`, `'max_temp'`, `'min_temp'`, `'daily_rain’`\n",
    "\n",
    "#### _<font color='chartreuse'>year_range</font>_\n",
    "A starting and ending year separated by a dash, example: `\"2012-2016“`. For mandatory variables for crop models (solar radiation, rainfall, minimum and maximum temperature), years can be from 1889 to the last complete year and from 1984 to the last complete year for silo and nasapower, respectively.\n",
    "\n",
    "#### _<font color='chartreuse'>output_type</font>_\n",
    "`met`, `wth` or `csv`\n",
    "\n",
    "#### _<font color='chartreuse'>output_path</font>_\n",
    "The path where generated output files will be stored. For Binder it is the current directory `os.getcwd()`. When data is managed as dataframe it is `None`. For local use (your computer) please provide your local address `r'C:\\...\\...\\'`\n",
    "\n",
    "#### _<font color='chartreuse'>multiprocessing</font>_\n",
    "Function not currently available to be developed."
   ]
  },
  {
   "cell_type": "markdown",
   "metadata": {},
   "source": [
    "## Install BestiaPop"
   ]
  },
  {
   "cell_type": "code",
   "execution_count": null,
   "metadata": {},
   "outputs": [],
   "source": [
    "!pip install bestiapop"
   ]
  },
  {
   "cell_type": "markdown",
   "metadata": {},
   "source": [
    "## Import required packages"
   ]
  },
  {
   "cell_type": "code",
   "execution_count": 2,
   "metadata": {},
   "outputs": [],
   "source": [
    "import numpy as np\n",
    "import os\n",
    "import pandas as pd\n",
    "from csv import reader\n",
    "from bestiapop import bestiapop"
   ]
  },
  {
   "cell_type": "markdown",
   "metadata": {},
   "source": [
    "## <font color='chartreuse'>Example 1:</font> Download from the SILO API in MET format (APSIM) for one lat/lon combination (1 year)"
   ]
  },
  {
   "cell_type": "code",
   "execution_count": 32,
   "metadata": {},
   "outputs": [
    {
     "name": "stderr",
     "output_type": "stream",
     "text": [
      "\u001b[32m2021-06-09 23:38:29\u001b[0m - \u001b[34mPOPBEAST\u001b[0m - Extracting data and converting to met format\n"
     ]
    },
    {
     "name": "stdout",
     "output_type": "stream",
     "text": [
      "Fetching data for -27.49521/152.806398\n",
      "Fetching and Parsing Data: 100%|#########################################################| 1/1 [00:00<00:00,  1.15it/s]\n"
     ]
    }
   ],
   "source": [
    "# Step 1: Define variables to pass in to Bestiapop\n",
    "coordinate_list = [[-27.495210, 152.806398]] \n",
    "action='generate-climate-file'\n",
    "data_source='silo'\n",
    "year_range='2020-2020'\n",
    "climate_variables=['radiation', 'max_temp', 'min_temp', 'daily_rain']\n",
    "output_type='met'\n",
    "output_path=r'C:\\Users\\uqjojeda\\Dropbox\\testbestiapop\\test'\n",
    "\n",
    "# Step 2: Run BestiaPop and download data\n",
    "final_df = pd.DataFrame()\n",
    "\n",
    "for coord in coordinate_list:\n",
    "    print('Fetching data for {}/{}'.format(coord[0], coord[1]))\n",
    "    climate_data = bestiapop.CLIMATEBEAST(\n",
    "        action='generate_met',\n",
    "        data_source=data_source,\n",
    "        output_path=output_path,\n",
    "        output_type=output_type,\n",
    "        input_path=None,\n",
    "        climate_variables=climate_variables,\n",
    "        year_range=year_range,\n",
    "        lat_range=[coord[0]],\n",
    "        lon_range=[coord[1]],\n",
    "        multiprocessing=None\n",
    "          )\n",
    "    data = climate_data.process_records(action)\n",
    "    final_df = final_df.append(data, ignore_index=True)"
   ]
  },
  {
   "cell_type": "markdown",
   "metadata": {},
   "source": [
    "## <font color='chartreuse'>Example 2:</font> Download from the SILO API in WTH format (DSSAT) for a list of lat/lon combinations (1 year)"
   ]
  },
  {
   "cell_type": "code",
   "execution_count": 42,
   "metadata": {},
   "outputs": [
    {
     "name": "stderr",
     "output_type": "stream",
     "text": [
      "\u001b[32m2021-06-09 23:48:55\u001b[0m - \u001b[34mPOPBEAST\u001b[0m - Extracting data and converting to wth format\n"
     ]
    },
    {
     "name": "stdout",
     "output_type": "stream",
     "text": [
      "Fetching data for -39.6/144.0\n",
      "Fetching and Parsing Data: 100%|#########################################################| 1/1 [00:00<00:00,  3.72it/s]"
     ]
    },
    {
     "name": "stderr",
     "output_type": "stream",
     "text": [
      "\u001b[32m2021-06-09 23:48:55\u001b[0m - \u001b[34mPOPBEAST\u001b[0m - Extracting data and converting to wth format\n"
     ]
    },
    {
     "name": "stdout",
     "output_type": "stream",
     "text": [
      "\n",
      "Fetching data for -39.65/144.0\n",
      "Fetching and Parsing Data: 100%|#########################################################| 1/1 [00:00<00:00,  4.21it/s]"
     ]
    },
    {
     "name": "stderr",
     "output_type": "stream",
     "text": [
      "\u001b[32m2021-06-09 23:48:55\u001b[0m - \u001b[34mPOPBEAST\u001b[0m - Extracting data and converting to wth format\n"
     ]
    },
    {
     "name": "stdout",
     "output_type": "stream",
     "text": [
      "\n",
      "Fetching data for -39.65/144.05\n",
      "Fetching and Parsing Data: 100%|#########################################################| 1/1 [00:00<00:00,  4.40it/s]"
     ]
    },
    {
     "name": "stderr",
     "output_type": "stream",
     "text": [
      "\u001b[32m2021-06-09 23:48:55\u001b[0m - \u001b[34mPOPBEAST\u001b[0m - Extracting data and converting to wth format\n"
     ]
    },
    {
     "name": "stdout",
     "output_type": "stream",
     "text": [
      "\n",
      "Fetching data for -39.7/143.95\n",
      "Fetching and Parsing Data: 100%|#########################################################| 1/1 [00:00<00:00,  4.17it/s]"
     ]
    },
    {
     "name": "stderr",
     "output_type": "stream",
     "text": [
      "\u001b[32m2021-06-09 23:48:56\u001b[0m - \u001b[34mPOPBEAST\u001b[0m - Extracting data and converting to wth format\n"
     ]
    },
    {
     "name": "stdout",
     "output_type": "stream",
     "text": [
      "\n",
      "Fetching data for -39.7/144.0\n",
      "Fetching and Parsing Data: 100%|#########################################################| 1/1 [00:00<00:00,  4.91it/s]\n"
     ]
    }
   ],
   "source": [
    "# Step 1: Define variables to pass in to Bestiapop\n",
    "url = \"https://raw.githubusercontent.com/JJguri/bestiapop/master/sample-data/lists/short_example.csv\"\n",
    "df = pd.read_csv(url)\n",
    "coordinate_list = df.values.tolist()\n",
    "action='generate-climate-file' \n",
    "data_source='silo'\n",
    "year_range='2020-2020'\n",
    "climate_variables=['radiation', 'max_temp', 'min_temp', 'daily_rain']\n",
    "output_type='wth'\n",
    "output_path=r'C:\\Users\\uqjojeda\\Dropbox\\testbestiapop\\test'\n",
    "\n",
    "# Step 2: Run BestiaPop and download data\n",
    "final_df = pd.DataFrame()\n",
    "\n",
    "for coord in coordinate_list:\n",
    "    print('Fetching data for {}/{}'.format(coord[0], coord[1]))\n",
    "    climate_data = bestiapop.CLIMATEBEAST(\n",
    "        action='generate_met',\n",
    "        data_source=data_source,\n",
    "        output_path=output_path,\n",
    "        output_type=output_type,\n",
    "        input_path=None,\n",
    "        climate_variables=climate_variables,\n",
    "        year_range=year_range,\n",
    "        lat_range=[coord[0]],\n",
    "        lon_range=[coord[1]],\n",
    "        multiprocessing=None\n",
    "          )\n",
    "    data = climate_data.process_records(action)\n",
    "    final_df = final_df.append(data, ignore_index=True)"
   ]
  },
  {
   "cell_type": "markdown",
   "metadata": {},
   "source": [
    "## <font color='chartreuse'>Example 3:</font> Download from the SILO API for a list of lat/lon combinations (2 years), create dataframe, summary statistics and visualisation "
   ]
  },
  {
   "cell_type": "code",
   "execution_count": 34,
   "metadata": {},
   "outputs": [
    {
     "name": "stderr",
     "output_type": "stream",
     "text": [
      "\u001b[32m2021-06-09 23:39:53\u001b[0m - \u001b[34mPOPBEAST\u001b[0m - Extracting data and converting to dataframe format\n"
     ]
    },
    {
     "name": "stdout",
     "output_type": "stream",
     "text": [
      "Fetching data for -40.1/143.9\n",
      "Fetching and Parsing Data: 100%|#########################################################| 1/1 [00:00<00:00,  3.26it/s]"
     ]
    },
    {
     "name": "stderr",
     "output_type": "stream",
     "text": [
      "\u001b[32m2021-06-09 23:39:53\u001b[0m - \u001b[34mPOPBEAST\u001b[0m - Extracting data and converting to dataframe format\n"
     ]
    },
    {
     "name": "stdout",
     "output_type": "stream",
     "text": [
      "\n",
      "Fetching data for -40.1/143.95\n",
      "Fetching and Parsing Data: 100%|#########################################################| 1/1 [00:00<00:00,  3.56it/s]"
     ]
    },
    {
     "name": "stderr",
     "output_type": "stream",
     "text": [
      "\u001b[32m2021-06-09 23:39:54\u001b[0m - \u001b[34mPOPBEAST\u001b[0m - Extracting data and converting to dataframe format\n"
     ]
    },
    {
     "name": "stdout",
     "output_type": "stream",
     "text": [
      "\n",
      "Fetching data for -40.05/143.85\n",
      "Fetching and Parsing Data: 100%|#########################################################| 1/1 [00:00<00:00,  3.80it/s]"
     ]
    },
    {
     "name": "stderr",
     "output_type": "stream",
     "text": [
      "\u001b[32m2021-06-09 23:39:54\u001b[0m - \u001b[34mPOPBEAST\u001b[0m - Extracting data and converting to dataframe format\n"
     ]
    },
    {
     "name": "stdout",
     "output_type": "stream",
     "text": [
      "\n",
      "Fetching data for -40.05/143.95\n",
      "Fetching and Parsing Data: 100%|#########################################################| 1/1 [00:00<00:00,  3.39it/s]"
     ]
    },
    {
     "name": "stderr",
     "output_type": "stream",
     "text": [
      "\u001b[32m2021-06-09 23:39:54\u001b[0m - \u001b[34mPOPBEAST\u001b[0m - Extracting data and converting to dataframe format\n"
     ]
    },
    {
     "name": "stdout",
     "output_type": "stream",
     "text": [
      "\n",
      "Fetching data for -40.05/144.0\n",
      "Fetching and Parsing Data: 100%|#########################################################| 1/1 [00:00<00:00,  3.62it/s]"
     ]
    },
    {
     "name": "stderr",
     "output_type": "stream",
     "text": [
      "\u001b[32m2021-06-09 23:39:55\u001b[0m - \u001b[34mPOPBEAST\u001b[0m - Extracting data and converting to dataframe format\n"
     ]
    },
    {
     "name": "stdout",
     "output_type": "stream",
     "text": [
      "\n",
      "Fetching data for -40.05/144.05\n",
      "Fetching and Parsing Data: 100%|#########################################################| 1/1 [00:00<00:00,  3.98it/s]"
     ]
    },
    {
     "name": "stderr",
     "output_type": "stream",
     "text": [
      "\u001b[32m2021-06-09 23:39:55\u001b[0m - \u001b[34mPOPBEAST\u001b[0m - Extracting data and converting to dataframe format\n"
     ]
    },
    {
     "name": "stdout",
     "output_type": "stream",
     "text": [
      "\n",
      "Fetching data for -40.05/144.1\n",
      "Fetching and Parsing Data: 100%|#########################################################| 1/1 [00:00<00:00,  3.57it/s]"
     ]
    },
    {
     "name": "stderr",
     "output_type": "stream",
     "text": [
      "\u001b[32m2021-06-09 23:39:55\u001b[0m - \u001b[34mPOPBEAST\u001b[0m - Extracting data and converting to dataframe format\n"
     ]
    },
    {
     "name": "stdout",
     "output_type": "stream",
     "text": [
      "\n",
      "Fetching data for -40.0/143.9\n",
      "Fetching and Parsing Data: 100%|#########################################################| 1/1 [00:00<00:00,  3.49it/s]"
     ]
    },
    {
     "name": "stderr",
     "output_type": "stream",
     "text": [
      "\u001b[32m2021-06-09 23:39:55\u001b[0m - \u001b[34mPOPBEAST\u001b[0m - Extracting data and converting to dataframe format\n"
     ]
    },
    {
     "name": "stdout",
     "output_type": "stream",
     "text": [
      "\n",
      "Fetching data for -40.0/143.95\n",
      "Fetching and Parsing Data: 100%|#########################################################| 1/1 [00:00<00:00,  3.59it/s]"
     ]
    },
    {
     "name": "stderr",
     "output_type": "stream",
     "text": [
      "\u001b[32m2021-06-09 23:39:56\u001b[0m - \u001b[34mPOPBEAST\u001b[0m - Extracting data and converting to dataframe format\n"
     ]
    },
    {
     "name": "stdout",
     "output_type": "stream",
     "text": [
      "\n",
      "Fetching data for -40.0/144.0\n",
      "Fetching and Parsing Data: 100%|#########################################################| 1/1 [00:00<00:00,  3.69it/s]"
     ]
    },
    {
     "name": "stderr",
     "output_type": "stream",
     "text": [
      "\u001b[32m2021-06-09 23:39:56\u001b[0m - \u001b[34mPOPBEAST\u001b[0m - Extracting data and converting to dataframe format\n"
     ]
    },
    {
     "name": "stdout",
     "output_type": "stream",
     "text": [
      "\n",
      "Fetching data for -40.0/144.05\n",
      "Fetching and Parsing Data: 100%|#########################################################| 1/1 [00:00<00:00,  3.80it/s]"
     ]
    },
    {
     "name": "stderr",
     "output_type": "stream",
     "text": [
      "\u001b[32m2021-06-09 23:39:56\u001b[0m - \u001b[34mPOPBEAST\u001b[0m - Extracting data and converting to dataframe format\n"
     ]
    },
    {
     "name": "stdout",
     "output_type": "stream",
     "text": [
      "\n",
      "Fetching data for -40.0/144.1\n",
      "Fetching and Parsing Data: 100%|#########################################################| 1/1 [00:00<00:00,  3.73it/s]"
     ]
    },
    {
     "name": "stderr",
     "output_type": "stream",
     "text": [
      "\u001b[32m2021-06-09 23:39:57\u001b[0m - \u001b[34mPOPBEAST\u001b[0m - Extracting data and converting to dataframe format\n"
     ]
    },
    {
     "name": "stdout",
     "output_type": "stream",
     "text": [
      "\n",
      "Fetching data for -39.95/143.9\n",
      "Fetching and Parsing Data: 100%|#########################################################| 1/1 [00:00<00:00,  3.45it/s]"
     ]
    },
    {
     "name": "stderr",
     "output_type": "stream",
     "text": [
      "\u001b[32m2021-06-09 23:39:57\u001b[0m - \u001b[34mPOPBEAST\u001b[0m - Extracting data and converting to dataframe format\n"
     ]
    },
    {
     "name": "stdout",
     "output_type": "stream",
     "text": [
      "\n",
      "Fetching data for -39.95/143.95\n",
      "Fetching and Parsing Data: 100%|#########################################################| 1/1 [00:00<00:00,  3.59it/s]"
     ]
    },
    {
     "name": "stderr",
     "output_type": "stream",
     "text": [
      "\u001b[32m2021-06-09 23:39:57\u001b[0m - \u001b[34mPOPBEAST\u001b[0m - Extracting data and converting to dataframe format\n"
     ]
    },
    {
     "name": "stdout",
     "output_type": "stream",
     "text": [
      "\n",
      "Fetching data for -39.95/144.0\n",
      "Fetching and Parsing Data: 100%|#########################################################| 1/1 [00:00<00:00,  3.74it/s]"
     ]
    },
    {
     "name": "stderr",
     "output_type": "stream",
     "text": [
      "\u001b[32m2021-06-09 23:39:57\u001b[0m - \u001b[34mPOPBEAST\u001b[0m - Extracting data and converting to dataframe format\n"
     ]
    },
    {
     "name": "stdout",
     "output_type": "stream",
     "text": [
      "\n",
      "Fetching data for -39.95/144.05\n",
      "Fetching and Parsing Data: 100%|#########################################################| 1/1 [00:00<00:00,  3.52it/s]"
     ]
    },
    {
     "name": "stderr",
     "output_type": "stream",
     "text": [
      "\u001b[32m2021-06-09 23:39:58\u001b[0m - \u001b[34mPOPBEAST\u001b[0m - Extracting data and converting to dataframe format\n"
     ]
    },
    {
     "name": "stdout",
     "output_type": "stream",
     "text": [
      "\n",
      "Fetching data for -39.95/144.1\n",
      "Fetching and Parsing Data: 100%|#########################################################| 1/1 [00:00<00:00,  3.61it/s]"
     ]
    },
    {
     "name": "stderr",
     "output_type": "stream",
     "text": [
      "\u001b[32m2021-06-09 23:39:58\u001b[0m - \u001b[34mPOPBEAST\u001b[0m - Extracting data and converting to dataframe format\n"
     ]
    },
    {
     "name": "stdout",
     "output_type": "stream",
     "text": [
      "\n",
      "Fetching data for -39.95/144.15\n",
      "Fetching and Parsing Data: 100%|#########################################################| 1/1 [00:00<00:00,  3.26it/s]"
     ]
    },
    {
     "name": "stderr",
     "output_type": "stream",
     "text": [
      "\u001b[32m2021-06-09 23:39:58\u001b[0m - \u001b[34mPOPBEAST\u001b[0m - Extracting data and converting to dataframe format\n"
     ]
    },
    {
     "name": "stdout",
     "output_type": "stream",
     "text": [
      "\n",
      "Fetching data for -39.9/143.9\n",
      "Fetching and Parsing Data: 100%|#########################################################| 1/1 [00:00<00:00,  3.66it/s]"
     ]
    },
    {
     "name": "stderr",
     "output_type": "stream",
     "text": [
      "\u001b[32m2021-06-09 23:39:59\u001b[0m - \u001b[34mPOPBEAST\u001b[0m - Extracting data and converting to dataframe format\n"
     ]
    },
    {
     "name": "stdout",
     "output_type": "stream",
     "text": [
      "\n",
      "Fetching data for -39.9/143.95\n",
      "Fetching and Parsing Data: 100%|#########################################################| 1/1 [00:00<00:00,  3.33it/s]"
     ]
    },
    {
     "name": "stderr",
     "output_type": "stream",
     "text": [
      "\u001b[32m2021-06-09 23:39:59\u001b[0m - \u001b[34mPOPBEAST\u001b[0m - Extracting data and converting to dataframe format\n"
     ]
    },
    {
     "name": "stdout",
     "output_type": "stream",
     "text": [
      "\n",
      "Fetching data for -39.9/144.0\n",
      "Fetching and Parsing Data: 100%|#########################################################| 1/1 [00:00<00:00,  3.50it/s]"
     ]
    },
    {
     "name": "stderr",
     "output_type": "stream",
     "text": [
      "\u001b[32m2021-06-09 23:39:59\u001b[0m - \u001b[34mPOPBEAST\u001b[0m - Extracting data and converting to dataframe format\n"
     ]
    },
    {
     "name": "stdout",
     "output_type": "stream",
     "text": [
      "\n",
      "Fetching data for -39.9/144.05\n",
      "Fetching and Parsing Data: 100%|#########################################################| 1/1 [00:00<00:00,  3.51it/s]"
     ]
    },
    {
     "name": "stderr",
     "output_type": "stream",
     "text": [
      "\u001b[32m2021-06-09 23:40:00\u001b[0m - \u001b[34mPOPBEAST\u001b[0m - Extracting data and converting to dataframe format\n"
     ]
    },
    {
     "name": "stdout",
     "output_type": "stream",
     "text": [
      "\n",
      "Fetching data for -39.9/144.1\n",
      "Fetching and Parsing Data: 100%|#########################################################| 1/1 [00:00<00:00,  3.35it/s]"
     ]
    },
    {
     "name": "stderr",
     "output_type": "stream",
     "text": [
      "\u001b[32m2021-06-09 23:40:00\u001b[0m - \u001b[34mPOPBEAST\u001b[0m - Extracting data and converting to dataframe format\n"
     ]
    },
    {
     "name": "stdout",
     "output_type": "stream",
     "text": [
      "\n",
      "Fetching data for -39.85/143.9\n",
      "Fetching and Parsing Data: 100%|#########################################################| 1/1 [00:00<00:00,  3.57it/s]"
     ]
    },
    {
     "name": "stderr",
     "output_type": "stream",
     "text": [
      "\u001b[32m2021-06-09 23:40:00\u001b[0m - \u001b[34mPOPBEAST\u001b[0m - Extracting data and converting to dataframe format\n"
     ]
    },
    {
     "name": "stdout",
     "output_type": "stream",
     "text": [
      "\n",
      "Fetching data for -39.85/143.95\n",
      "Fetching and Parsing Data: 100%|#########################################################| 1/1 [00:00<00:00,  3.61it/s]"
     ]
    },
    {
     "name": "stderr",
     "output_type": "stream",
     "text": [
      "\u001b[32m2021-06-09 23:40:00\u001b[0m - \u001b[34mPOPBEAST\u001b[0m - Extracting data and converting to dataframe format\n"
     ]
    },
    {
     "name": "stdout",
     "output_type": "stream",
     "text": [
      "\n",
      "Fetching data for -39.85/144.0\n",
      "Fetching and Parsing Data: 100%|#########################################################| 1/1 [00:00<00:00,  3.77it/s]"
     ]
    },
    {
     "name": "stderr",
     "output_type": "stream",
     "text": [
      "\u001b[32m2021-06-09 23:40:01\u001b[0m - \u001b[34mPOPBEAST\u001b[0m - Extracting data and converting to dataframe format\n"
     ]
    },
    {
     "name": "stdout",
     "output_type": "stream",
     "text": [
      "\n",
      "Fetching data for -39.85/144.05\n",
      "Fetching and Parsing Data: 100%|#########################################################| 1/1 [00:00<00:00,  3.70it/s]"
     ]
    },
    {
     "name": "stderr",
     "output_type": "stream",
     "text": [
      "\u001b[32m2021-06-09 23:40:01\u001b[0m - \u001b[34mPOPBEAST\u001b[0m - Extracting data and converting to dataframe format\n"
     ]
    },
    {
     "name": "stdout",
     "output_type": "stream",
     "text": [
      "\n",
      "Fetching data for -39.85/144.1\n",
      "Fetching and Parsing Data: 100%|#########################################################| 1/1 [00:00<00:00,  3.37it/s]"
     ]
    },
    {
     "name": "stderr",
     "output_type": "stream",
     "text": [
      "\u001b[32m2021-06-09 23:40:01\u001b[0m - \u001b[34mPOPBEAST\u001b[0m - Extracting data and converting to dataframe format\n"
     ]
    },
    {
     "name": "stdout",
     "output_type": "stream",
     "text": [
      "\n",
      "Fetching data for -39.8/143.9\n",
      "Fetching and Parsing Data: 100%|#########################################################| 1/1 [00:00<00:00,  3.64it/s]"
     ]
    },
    {
     "name": "stderr",
     "output_type": "stream",
     "text": [
      "\u001b[32m2021-06-09 23:40:02\u001b[0m - \u001b[34mPOPBEAST\u001b[0m - Extracting data and converting to dataframe format\n"
     ]
    },
    {
     "name": "stdout",
     "output_type": "stream",
     "text": [
      "\n",
      "Fetching data for -39.8/143.95\n",
      "Fetching and Parsing Data: 100%|#########################################################| 1/1 [00:00<00:00,  3.67it/s]"
     ]
    },
    {
     "name": "stderr",
     "output_type": "stream",
     "text": [
      "\u001b[32m2021-06-09 23:40:02\u001b[0m - \u001b[34mPOPBEAST\u001b[0m - Extracting data and converting to dataframe format\n"
     ]
    },
    {
     "name": "stdout",
     "output_type": "stream",
     "text": [
      "\n",
      "Fetching data for -39.8/144.0\n",
      "Fetching and Parsing Data: 100%|#########################################################| 1/1 [00:00<00:00,  2.83it/s]"
     ]
    },
    {
     "name": "stderr",
     "output_type": "stream",
     "text": [
      "\u001b[32m2021-06-09 23:40:02\u001b[0m - \u001b[34mPOPBEAST\u001b[0m - Extracting data and converting to dataframe format\n"
     ]
    },
    {
     "name": "stdout",
     "output_type": "stream",
     "text": [
      "\n",
      "Fetching data for -39.8/144.05\n",
      "Fetching and Parsing Data: 100%|#########################################################| 1/1 [00:00<00:00,  3.53it/s]"
     ]
    },
    {
     "name": "stderr",
     "output_type": "stream",
     "text": [
      "\u001b[32m2021-06-09 23:40:03\u001b[0m - \u001b[34mPOPBEAST\u001b[0m - Extracting data and converting to dataframe format\n"
     ]
    },
    {
     "name": "stdout",
     "output_type": "stream",
     "text": [
      "\n",
      "Fetching data for -39.8/144.1\n",
      "Fetching and Parsing Data: 100%|#########################################################| 1/1 [00:00<00:00,  3.23it/s]"
     ]
    },
    {
     "name": "stderr",
     "output_type": "stream",
     "text": [
      "\u001b[32m2021-06-09 23:40:03\u001b[0m - \u001b[34mPOPBEAST\u001b[0m - Extracting data and converting to dataframe format\n"
     ]
    },
    {
     "name": "stdout",
     "output_type": "stream",
     "text": [
      "\n",
      "Fetching data for -39.75/143.9\n",
      "Fetching and Parsing Data: 100%|#########################################################| 1/1 [00:00<00:00,  3.64it/s]"
     ]
    },
    {
     "name": "stderr",
     "output_type": "stream",
     "text": [
      "\u001b[32m2021-06-09 23:40:03\u001b[0m - \u001b[34mPOPBEAST\u001b[0m - Extracting data and converting to dataframe format\n"
     ]
    },
    {
     "name": "stdout",
     "output_type": "stream",
     "text": [
      "\n",
      "Fetching data for -39.75/143.95\n",
      "Fetching and Parsing Data: 100%|#########################################################| 1/1 [00:00<00:00,  3.63it/s]"
     ]
    },
    {
     "name": "stderr",
     "output_type": "stream",
     "text": [
      "\u001b[32m2021-06-09 23:40:03\u001b[0m - \u001b[34mPOPBEAST\u001b[0m - Extracting data and converting to dataframe format\n"
     ]
    },
    {
     "name": "stdout",
     "output_type": "stream",
     "text": [
      "\n",
      "Fetching data for -39.75/144.0\n",
      "Fetching and Parsing Data: 100%|#########################################################| 1/1 [00:00<00:00,  3.55it/s]"
     ]
    },
    {
     "name": "stderr",
     "output_type": "stream",
     "text": [
      "\u001b[32m2021-06-09 23:40:04\u001b[0m - \u001b[34mPOPBEAST\u001b[0m - Extracting data and converting to dataframe format\n"
     ]
    },
    {
     "name": "stdout",
     "output_type": "stream",
     "text": [
      "\n",
      "Fetching data for -39.75/144.05\n",
      "Fetching and Parsing Data: 100%|#########################################################| 1/1 [00:00<00:00,  3.51it/s]"
     ]
    },
    {
     "name": "stderr",
     "output_type": "stream",
     "text": [
      "\u001b[32m2021-06-09 23:40:04\u001b[0m - \u001b[34mPOPBEAST\u001b[0m - Extracting data and converting to dataframe format\n"
     ]
    },
    {
     "name": "stdout",
     "output_type": "stream",
     "text": [
      "\n",
      "Fetching data for -39.75/144.1\n",
      "Fetching and Parsing Data: 100%|#########################################################| 1/1 [00:00<00:00,  3.55it/s]"
     ]
    },
    {
     "name": "stderr",
     "output_type": "stream",
     "text": [
      "\u001b[32m2021-06-09 23:40:04\u001b[0m - \u001b[34mPOPBEAST\u001b[0m - Extracting data and converting to dataframe format\n"
     ]
    },
    {
     "name": "stdout",
     "output_type": "stream",
     "text": [
      "\n",
      "Fetching data for -39.7/143.9\n",
      "Fetching and Parsing Data: 100%|#########################################################| 1/1 [00:00<00:00,  3.65it/s]"
     ]
    },
    {
     "name": "stderr",
     "output_type": "stream",
     "text": [
      "\u001b[32m2021-06-09 23:40:05\u001b[0m - \u001b[34mPOPBEAST\u001b[0m - Extracting data and converting to dataframe format\n"
     ]
    },
    {
     "name": "stdout",
     "output_type": "stream",
     "text": [
      "\n",
      "Fetching data for -39.7/143.95\n",
      "Fetching and Parsing Data: 100%|#########################################################| 1/1 [00:00<00:00,  3.48it/s]"
     ]
    },
    {
     "name": "stderr",
     "output_type": "stream",
     "text": [
      "\u001b[32m2021-06-09 23:40:05\u001b[0m - \u001b[34mPOPBEAST\u001b[0m - Extracting data and converting to dataframe format\n"
     ]
    },
    {
     "name": "stdout",
     "output_type": "stream",
     "text": [
      "\n",
      "Fetching data for -39.7/144.0\n",
      "Fetching and Parsing Data: 100%|#########################################################| 1/1 [00:00<00:00,  3.59it/s]"
     ]
    },
    {
     "name": "stderr",
     "output_type": "stream",
     "text": [
      "\u001b[32m2021-06-09 23:40:05\u001b[0m - \u001b[34mPOPBEAST\u001b[0m - Extracting data and converting to dataframe format\n"
     ]
    },
    {
     "name": "stdout",
     "output_type": "stream",
     "text": [
      "\n",
      "Fetching data for -39.7/144.05\n",
      "Fetching and Parsing Data: 100%|#########################################################| 1/1 [00:00<00:00,  3.54it/s]"
     ]
    },
    {
     "name": "stderr",
     "output_type": "stream",
     "text": [
      "\u001b[32m2021-06-09 23:40:05\u001b[0m - \u001b[34mPOPBEAST\u001b[0m - Extracting data and converting to dataframe format\n"
     ]
    },
    {
     "name": "stdout",
     "output_type": "stream",
     "text": [
      "\n",
      "Fetching data for -39.7/144.1\n",
      "Fetching and Parsing Data: 100%|#########################################################| 1/1 [00:00<00:00,  3.65it/s]"
     ]
    },
    {
     "name": "stderr",
     "output_type": "stream",
     "text": [
      "\u001b[32m2021-06-09 23:40:06\u001b[0m - \u001b[34mPOPBEAST\u001b[0m - Extracting data and converting to dataframe format\n"
     ]
    },
    {
     "name": "stdout",
     "output_type": "stream",
     "text": [
      "\n",
      "Fetching data for -39.65/144.0\n",
      "Fetching and Parsing Data: 100%|#########################################################| 1/1 [00:00<00:00,  3.61it/s]"
     ]
    },
    {
     "name": "stderr",
     "output_type": "stream",
     "text": [
      "\u001b[32m2021-06-09 23:40:06\u001b[0m - \u001b[34mPOPBEAST\u001b[0m - Extracting data and converting to dataframe format\n"
     ]
    },
    {
     "name": "stdout",
     "output_type": "stream",
     "text": [
      "\n",
      "Fetching data for -39.65/144.05\n",
      "Fetching and Parsing Data: 100%|#########################################################| 1/1 [00:00<00:00,  3.33it/s]"
     ]
    },
    {
     "name": "stderr",
     "output_type": "stream",
     "text": [
      "\u001b[32m2021-06-09 23:40:06\u001b[0m - \u001b[34mPOPBEAST\u001b[0m - Extracting data and converting to dataframe format\n"
     ]
    },
    {
     "name": "stdout",
     "output_type": "stream",
     "text": [
      "\n",
      "Fetching data for -39.6/144.0\n",
      "Fetching and Parsing Data: 100%|#########################################################| 1/1 [00:00<00:00,  3.57it/s]"
     ]
    },
    {
     "name": "stderr",
     "output_type": "stream",
     "text": [
      "\u001b[32m2021-06-09 23:40:07\u001b[0m - \u001b[34mPOPBEAST\u001b[0m - Extracting data and converting to dataframe format\n"
     ]
    },
    {
     "name": "stdout",
     "output_type": "stream",
     "text": [
      "\n",
      "Fetching data for -39.6/144.0\n",
      "Fetching and Parsing Data: 100%|#########################################################| 1/1 [00:00<00:00,  3.34it/s]\n"
     ]
    },
    {
     "data": {
      "text/html": [
       "<div>\n",
       "<style scoped>\n",
       "    .dataframe tbody tr th:only-of-type {\n",
       "        vertical-align: middle;\n",
       "    }\n",
       "\n",
       "    .dataframe tbody tr th {\n",
       "        vertical-align: top;\n",
       "    }\n",
       "\n",
       "    .dataframe thead th {\n",
       "        text-align: right;\n",
       "    }\n",
       "</style>\n",
       "<table border=\"1\" class=\"dataframe\">\n",
       "  <thead>\n",
       "    <tr style=\"text-align: right;\">\n",
       "      <th></th>\n",
       "      <th>lon</th>\n",
       "      <th>lat</th>\n",
       "      <th>year</th>\n",
       "      <th>day</th>\n",
       "      <th>radn</th>\n",
       "      <th>maxt</th>\n",
       "      <th>mint</th>\n",
       "      <th>rain</th>\n",
       "    </tr>\n",
       "  </thead>\n",
       "  <tbody>\n",
       "    <tr>\n",
       "      <th>0</th>\n",
       "      <td>143.9</td>\n",
       "      <td>-40.1</td>\n",
       "      <td>2019</td>\n",
       "      <td>1</td>\n",
       "      <td>18.8</td>\n",
       "      <td>20.2</td>\n",
       "      <td>12.7</td>\n",
       "      <td>0.0</td>\n",
       "    </tr>\n",
       "    <tr>\n",
       "      <th>1</th>\n",
       "      <td>143.9</td>\n",
       "      <td>-40.1</td>\n",
       "      <td>2019</td>\n",
       "      <td>2</td>\n",
       "      <td>14.2</td>\n",
       "      <td>19.8</td>\n",
       "      <td>14.1</td>\n",
       "      <td>0.0</td>\n",
       "    </tr>\n",
       "    <tr>\n",
       "      <th>2</th>\n",
       "      <td>143.9</td>\n",
       "      <td>-40.1</td>\n",
       "      <td>2019</td>\n",
       "      <td>3</td>\n",
       "      <td>28.5</td>\n",
       "      <td>24.0</td>\n",
       "      <td>8.5</td>\n",
       "      <td>0.0</td>\n",
       "    </tr>\n",
       "    <tr>\n",
       "      <th>3</th>\n",
       "      <td>143.9</td>\n",
       "      <td>-40.1</td>\n",
       "      <td>2019</td>\n",
       "      <td>4</td>\n",
       "      <td>14.3</td>\n",
       "      <td>26.0</td>\n",
       "      <td>16.8</td>\n",
       "      <td>0.0</td>\n",
       "    </tr>\n",
       "    <tr>\n",
       "      <th>4</th>\n",
       "      <td>143.9</td>\n",
       "      <td>-40.1</td>\n",
       "      <td>2019</td>\n",
       "      <td>5</td>\n",
       "      <td>21.6</td>\n",
       "      <td>19.7</td>\n",
       "      <td>14.2</td>\n",
       "      <td>0.0</td>\n",
       "    </tr>\n",
       "    <tr>\n",
       "      <th>...</th>\n",
       "      <td>...</td>\n",
       "      <td>...</td>\n",
       "      <td>...</td>\n",
       "      <td>...</td>\n",
       "      <td>...</td>\n",
       "      <td>...</td>\n",
       "      <td>...</td>\n",
       "      <td>...</td>\n",
       "    </tr>\n",
       "    <tr>\n",
       "      <th>34352</th>\n",
       "      <td>144.0</td>\n",
       "      <td>-39.6</td>\n",
       "      <td>2020</td>\n",
       "      <td>362</td>\n",
       "      <td>9.1</td>\n",
       "      <td>22.9</td>\n",
       "      <td>14.3</td>\n",
       "      <td>0.2</td>\n",
       "    </tr>\n",
       "    <tr>\n",
       "      <th>34353</th>\n",
       "      <td>144.0</td>\n",
       "      <td>-39.6</td>\n",
       "      <td>2020</td>\n",
       "      <td>363</td>\n",
       "      <td>27.1</td>\n",
       "      <td>16.3</td>\n",
       "      <td>9.9</td>\n",
       "      <td>3.0</td>\n",
       "    </tr>\n",
       "    <tr>\n",
       "      <th>34354</th>\n",
       "      <td>144.0</td>\n",
       "      <td>-39.6</td>\n",
       "      <td>2020</td>\n",
       "      <td>364</td>\n",
       "      <td>13.9</td>\n",
       "      <td>18.7</td>\n",
       "      <td>10.9</td>\n",
       "      <td>0.0</td>\n",
       "    </tr>\n",
       "    <tr>\n",
       "      <th>34355</th>\n",
       "      <td>144.0</td>\n",
       "      <td>-39.6</td>\n",
       "      <td>2020</td>\n",
       "      <td>365</td>\n",
       "      <td>16.6</td>\n",
       "      <td>18.8</td>\n",
       "      <td>13.0</td>\n",
       "      <td>0.2</td>\n",
       "    </tr>\n",
       "    <tr>\n",
       "      <th>34356</th>\n",
       "      <td>144.0</td>\n",
       "      <td>-39.6</td>\n",
       "      <td>2020</td>\n",
       "      <td>366</td>\n",
       "      <td>19.6</td>\n",
       "      <td>20.6</td>\n",
       "      <td>11.4</td>\n",
       "      <td>0.2</td>\n",
       "    </tr>\n",
       "  </tbody>\n",
       "</table>\n",
       "<p>34357 rows × 8 columns</p>\n",
       "</div>"
      ],
      "text/plain": [
       "         lon   lat  year  day  radn  maxt  mint  rain\n",
       "0      143.9 -40.1  2019    1  18.8  20.2  12.7   0.0\n",
       "1      143.9 -40.1  2019    2  14.2  19.8  14.1   0.0\n",
       "2      143.9 -40.1  2019    3  28.5  24.0   8.5   0.0\n",
       "3      143.9 -40.1  2019    4  14.3  26.0  16.8   0.0\n",
       "4      143.9 -40.1  2019    5  21.6  19.7  14.2   0.0\n",
       "...      ...   ...   ...  ...   ...   ...   ...   ...\n",
       "34352  144.0 -39.6  2020  362   9.1  22.9  14.3   0.2\n",
       "34353  144.0 -39.6  2020  363  27.1  16.3   9.9   3.0\n",
       "34354  144.0 -39.6  2020  364  13.9  18.7  10.9   0.0\n",
       "34355  144.0 -39.6  2020  365  16.6  18.8  13.0   0.2\n",
       "34356  144.0 -39.6  2020  366  19.6  20.6  11.4   0.2\n",
       "\n",
       "[34357 rows x 8 columns]"
      ]
     },
     "execution_count": 34,
     "metadata": {},
     "output_type": "execute_result"
    }
   ],
   "source": [
    "# Step 1: Define variables to pass in to Bestiapop\n",
    "url = \"https://raw.githubusercontent.com/JJguri/bestiapop/master/sample-data/lists/bpop_island_example.csv\"\n",
    "df = pd.read_csv(url)\n",
    "coordinate_list = df.values.tolist()\n",
    "action='generate-climate-file' \n",
    "data_source='silo'\n",
    "year_range='2019-2020'\n",
    "climate_variables=['radiation', 'max_temp', 'min_temp', 'daily_rain']\n",
    "output_type='dataframe'\n",
    "output_path=None\n",
    "\n",
    "# Step 2: Run BestiaPop and download data\n",
    "\n",
    "final_df = pd.DataFrame()\n",
    "\n",
    "for coord in coordinate_list:\n",
    "    print('Fetching data for {}/{}'.format(coord[0], coord[1]))\n",
    "    climate_data = bestiapop.CLIMATEBEAST(\n",
    "        action='generate_met',\n",
    "        data_source=data_source,\n",
    "        output_path=output_path,\n",
    "        output_type=output_type,\n",
    "        input_path=None,\n",
    "        climate_variables=climate_variables,\n",
    "        year_range=year_range,\n",
    "        lat_range=[coord[0]],\n",
    "        lon_range=[coord[1]],\n",
    "        multiprocessing=None\n",
    "          )\n",
    "    data = climate_data.process_records(action)\n",
    "    final_df = final_df.append(data, ignore_index=True)\n",
    "\n",
    "# Show the final dataframe\n",
    "final_df"
   ]
  },
  {
   "cell_type": "markdown",
   "metadata": {},
   "source": [
    "## Calculating yearly statistics\n",
    "\n",
    "Let's calculate some statistics base on the climate data we retrieved from SILO\n",
    "\n",
    "> NOTE: here we presente the sum of rain and radiation and the mean of daily minimum and maximum temperature across years. You can change the parameters you want to get lookin at the [GroupBy](https://pandas.pydata.org/pandas-docs/stable/reference/groupby.html) documentation."
   ]
  },
  {
   "cell_type": "code",
   "execution_count": 35,
   "metadata": {},
   "outputs": [
    {
     "data": {
      "text/html": [
       "<div>\n",
       "<style scoped>\n",
       "    .dataframe tbody tr th:only-of-type {\n",
       "        vertical-align: middle;\n",
       "    }\n",
       "\n",
       "    .dataframe tbody tr th {\n",
       "        vertical-align: top;\n",
       "    }\n",
       "\n",
       "    .dataframe thead th {\n",
       "        text-align: right;\n",
       "    }\n",
       "</style>\n",
       "<table border=\"1\" class=\"dataframe\">\n",
       "  <thead>\n",
       "    <tr style=\"text-align: right;\">\n",
       "      <th></th>\n",
       "      <th></th>\n",
       "      <th></th>\n",
       "      <th>radn</th>\n",
       "      <th>maxt</th>\n",
       "      <th>mint</th>\n",
       "      <th>rain</th>\n",
       "    </tr>\n",
       "    <tr>\n",
       "      <th>lon</th>\n",
       "      <th>lat</th>\n",
       "      <th>year</th>\n",
       "      <th></th>\n",
       "      <th></th>\n",
       "      <th></th>\n",
       "      <th></th>\n",
       "    </tr>\n",
       "  </thead>\n",
       "  <tbody>\n",
       "    <tr>\n",
       "      <th rowspan=\"2\" valign=\"top\">143.85</th>\n",
       "      <th rowspan=\"2\" valign=\"top\">-40.05</th>\n",
       "      <th>2019</th>\n",
       "      <td>4375.6</td>\n",
       "      <td>16.9</td>\n",
       "      <td>10.2</td>\n",
       "      <td>873.1</td>\n",
       "    </tr>\n",
       "    <tr>\n",
       "      <th>2020</th>\n",
       "      <td>4019.0</td>\n",
       "      <td>16.6</td>\n",
       "      <td>10.0</td>\n",
       "      <td>963.3</td>\n",
       "    </tr>\n",
       "    <tr>\n",
       "      <th rowspan=\"3\" valign=\"top\">143.90</th>\n",
       "      <th rowspan=\"2\" valign=\"top\">-40.10</th>\n",
       "      <th>2019</th>\n",
       "      <td>4382.5</td>\n",
       "      <td>16.6</td>\n",
       "      <td>10.1</td>\n",
       "      <td>889.8</td>\n",
       "    </tr>\n",
       "    <tr>\n",
       "      <th>2020</th>\n",
       "      <td>4014.5</td>\n",
       "      <td>16.4</td>\n",
       "      <td>9.9</td>\n",
       "      <td>1003.3</td>\n",
       "    </tr>\n",
       "    <tr>\n",
       "      <th>-40.00</th>\n",
       "      <th>2019</th>\n",
       "      <td>4395.3</td>\n",
       "      <td>16.8</td>\n",
       "      <td>10.1</td>\n",
       "      <td>925.1</td>\n",
       "    </tr>\n",
       "    <tr>\n",
       "      <th>...</th>\n",
       "      <th>...</th>\n",
       "      <th>...</th>\n",
       "      <td>...</td>\n",
       "      <td>...</td>\n",
       "      <td>...</td>\n",
       "      <td>...</td>\n",
       "    </tr>\n",
       "    <tr>\n",
       "      <th rowspan=\"3\" valign=\"top\">144.10</th>\n",
       "      <th>-39.75</th>\n",
       "      <th>2020</th>\n",
       "      <td>4098.4</td>\n",
       "      <td>17.1</td>\n",
       "      <td>10.3</td>\n",
       "      <td>984.1</td>\n",
       "    </tr>\n",
       "    <tr>\n",
       "      <th rowspan=\"2\" valign=\"top\">-39.70</th>\n",
       "      <th>2019</th>\n",
       "      <td>4471.3</td>\n",
       "      <td>17.5</td>\n",
       "      <td>10.5</td>\n",
       "      <td>800.7</td>\n",
       "    </tr>\n",
       "    <tr>\n",
       "      <th>2020</th>\n",
       "      <td>4113.1</td>\n",
       "      <td>17.1</td>\n",
       "      <td>10.3</td>\n",
       "      <td>980.6</td>\n",
       "    </tr>\n",
       "    <tr>\n",
       "      <th rowspan=\"2\" valign=\"top\">144.15</th>\n",
       "      <th rowspan=\"2\" valign=\"top\">-39.95</th>\n",
       "      <th>2019</th>\n",
       "      <td>4430.3</td>\n",
       "      <td>16.9</td>\n",
       "      <td>10.2</td>\n",
       "      <td>1056.3</td>\n",
       "    </tr>\n",
       "    <tr>\n",
       "      <th>2020</th>\n",
       "      <td>4062.9</td>\n",
       "      <td>16.6</td>\n",
       "      <td>10.1</td>\n",
       "      <td>1068.7</td>\n",
       "    </tr>\n",
       "  </tbody>\n",
       "</table>\n",
       "<p>92 rows × 4 columns</p>\n",
       "</div>"
      ],
      "text/plain": [
       "                      radn  maxt  mint    rain\n",
       "lon    lat    year                            \n",
       "143.85 -40.05 2019  4375.6  16.9  10.2   873.1\n",
       "              2020  4019.0  16.6  10.0   963.3\n",
       "143.90 -40.10 2019  4382.5  16.6  10.1   889.8\n",
       "              2020  4014.5  16.4   9.9  1003.3\n",
       "       -40.00 2019  4395.3  16.8  10.1   925.1\n",
       "...                    ...   ...   ...     ...\n",
       "144.10 -39.75 2020  4098.4  17.1  10.3   984.1\n",
       "       -39.70 2019  4471.3  17.5  10.5   800.7\n",
       "              2020  4113.1  17.1  10.3   980.6\n",
       "144.15 -39.95 2019  4430.3  16.9  10.2  1056.3\n",
       "              2020  4062.9  16.6  10.1  1068.7\n",
       "\n",
       "[92 rows x 4 columns]"
      ]
     },
     "execution_count": 35,
     "metadata": {},
     "output_type": "execute_result"
    }
   ],
   "source": [
    "#calculate yearly mean of mint and maxt (degree C) and cummulative radn (MJ m-2) and rain (mm) across years and lat/lon combinations\n",
    "mini = final_df.groupby(['lon','lat','year'], as_index=True)['maxt'].mean().round(decimals=1)\n",
    "maxi = final_df.groupby(['lon','lat','year'], as_index=True)['mint'].mean().round(decimals=1)\n",
    "radn = final_df.groupby(['lon','lat','year'], as_index=True)['radn'].sum().round(decimals=1)\n",
    "rain = final_df.groupby(['lon','lat','year'], as_index=True)['rain'].sum().round(decimals=1)\n",
    "st0 = pd.merge(radn, mini, on=(['lon','lat','year']), how='outer')\n",
    "st00 = pd.merge(maxi, rain, on=(['lon','lat','year']), how='outer')\n",
    "st_final = pd.merge(st0, st00, on=(['lon','lat','year']), how='outer')\n",
    "\n",
    "#Save the statistical summary in the current dir\n",
    "st_final.to_csv(r'C:\\Users\\uqjojeda\\Dropbox\\testbestiapop\\test\\test.csv')\n",
    "st_final"
   ]
  },
  {
   "cell_type": "markdown",
   "metadata": {},
   "source": [
    "## This code re-structure the datasets before mapping"
   ]
  },
  {
   "cell_type": "code",
   "execution_count": 36,
   "metadata": {},
   "outputs": [],
   "source": [
    "#Preparinf dataset to plot\n",
    "radnrain = final_df.groupby(['lat', 'lon','year'],as_index=True).sum()\n",
    "temp = final_df.groupby(['lat', 'lon','year'],as_index=True).mean()\n",
    "#Reseting index\n",
    "Pre_nc = radnrain.reset_index()\n",
    "#Set indexes\n",
    "Pre_nc.set_index(['lat', 'lon', 'year'], inplace=True)\n",
    "df1 = Pre_nc[~Pre_nc.index.duplicated(keep='first')]\n",
    "#From 2D dataframe to xarray\n",
    "nc_r = df1.to_xarray()\n",
    "#Reseting index\n",
    "Pre_nc2 = temp.reset_index()\n",
    "#Set indexes\n",
    "Pre_nc2.set_index(['lat', 'lon', 'year'], inplace=True)\n",
    "df2 = Pre_nc2[~Pre_nc2.index.duplicated(keep='first')]\n",
    "#From 2D dataframe to xarray\n",
    "nc_t = df2.to_xarray()"
   ]
  },
  {
   "cell_type": "markdown",
   "metadata": {},
   "source": [
    "# Tips before mapping climate variables\n",
    "\n",
    "* check the variable name you want to map in `p=nc_r.rain.mean`.\n",
    "* adapt the latitude and longitude corners of your study region in `ax.set_extent`.\n",
    "* edit your colorbar label in `cb.set_label`\n",
    "* For further details on cartopy functions visit [Cartopy](https://scitools.org.uk/cartopy/docs/latest/)."
   ]
  },
  {
   "cell_type": "markdown",
   "metadata": {},
   "source": [
    "## Mapping rainfall\n",
    "\n",
    "> NOTE: Each 5 km grid represents the mean (across years) of cumulative rainfall during the year"
   ]
  },
  {
   "cell_type": "code",
   "execution_count": 41,
   "metadata": {},
   "outputs": [
    {
     "data": {
      "image/png": "[encoded data removed]",
      "text/plain": [
       "<Figure size 720x576 with 2 Axes>"
      ]
     },
     "metadata": {
      "needs_background": "light"
     },
     "output_type": "display_data"
    }
   ],
   "source": [
    "#Packages required for the mapping functions\n",
    "from matplotlib import pyplot as plt\n",
    "import cartopy.crs as ccrs\n",
    "import matplotlib as mpl\n",
    "import cartopy.feature as cfeature\n",
    "import matplotlib.ticker as mticker\n",
    "from cartopy.mpl.gridliner import LONGITUDE_FORMATTER, LATITUDE_FORMATTER\n",
    "\n",
    "#Plotting single map with cumulative rain during the year <--update central longitude in 'projection=ccrs.Mercator(' accordingly with the region of interest\n",
    "fig, ax = plt.subplots(1, 1, subplot_kw=dict(projection=ccrs.Mercator(central_longitude=146)),figsize=(10,8))\n",
    "p=nc_r.rain.mean(dim=('year'), skipna=True).plot(x='lon', y='lat', transform=ccrs.PlateCarree(central_longitude=0),\n",
    "robust=True, cmap=mpl.cm.RdYlBu, zorder=1, add_colorbar=False)\n",
    "\n",
    "#Arranguing features, borders and axis labels \n",
    "gl=ax.gridlines(crs=ccrs.PlateCarree(), linewidth=0.01, color='w', alpha=0, linestyle='-', draw_labels=True,dms=True, x_inline=False, y_inline=False)\n",
    "ax.add_feature(cfeature.COASTLINE, edgecolor = \"grey\", linewidth=2)\n",
    "ax.add_feature(cfeature.STATES, edgecolor = \"grey\", linewidth=0.3, zorder=1)\n",
    "ax.add_feature(cfeature.OCEAN, color='white', zorder=2)\n",
    "ax.add_feature(cfeature.LAKES, color='white', zorder=1.5)\n",
    "ax.add_feature(cfeature.BORDERS, edgecolor = \"grey\", color='grey', linewidth=1)\n",
    "\n",
    "#you will need to update the 3 following lines accordingly with the region of interest\n",
    "ax.set_extent([143.6, 144.3, -40.3, -39.5], crs=ccrs.PlateCarree())\n",
    "gl.xlocator = mticker.FixedLocator([143.8, 144, 144.2])\n",
    "gl.ylocator = mticker.FixedLocator([-39.6, -39.8, -40, -40.2])\n",
    "gl.xlabels_top = False\n",
    "gl.ylabels_right = False\n",
    "gl.xformatter = LONGITUDE_FORMATTER\n",
    "gl.yformatter = LATITUDE_FORMATTER\n",
    "gl.xlabel_style = {'size': 17, 'color': 'k'}\n",
    "gl.ylabel_style = {'size': 17, 'color': 'k'}\n",
    "ax.outline_patch.set_visible(False)\n",
    "ax.spines['left'].set_visible(True)  \n",
    "ax.spines['bottom'].set_visible(True)\n",
    "\n",
    "#Setting colorbar attributes\n",
    "cb = plt.colorbar(p, orientation=\"vertical\", pad=0.02, shrink=0.9)\n",
    "cb.set_label(label='Rain (mm)', size='xx-large', weight='bold')\n",
    "cb.ax.tick_params(labelsize='xx-large')\n",
    "\n",
    "#Save the map to the current directory\n",
    "plt.savefig(r'C:\\Users\\uqjojeda\\Dropbox\\testbestiapop\\test\\rainfall.png', dpi=600, bbox_inches='tight', pad_inches=0)"
   ]
  },
  {
   "cell_type": "markdown",
   "metadata": {},
   "source": [
    "## Mapping solar radiation\n",
    "\n",
    "> NOTE: Each 5 km grid represents the mean (across years) of cumulative solar dariation during the year"
   ]
  },
  {
   "cell_type": "code",
   "execution_count": 30,
   "metadata": {},
   "outputs": [
    {
     "data": {
      "image/png": "[encoded data removed]",
      "text/plain": [
       "<Figure size 720x576 with 2 Axes>"
      ]
     },
     "metadata": {
      "needs_background": "light"
     },
     "output_type": "display_data"
    }
   ],
   "source": [
    "#Packages required for the mapping functions\n",
    "from matplotlib import pyplot as plt\n",
    "import cartopy.crs as ccrs\n",
    "import matplotlib as mpl\n",
    "import cartopy.feature as cfeature\n",
    "import matplotlib.ticker as mticker\n",
    "from cartopy.mpl.gridliner import LONGITUDE_FORMATTER, LATITUDE_FORMATTER\n",
    "\n",
    "#Plotting single map with cumulative rain during the year <--update central longitude in 'projection=ccrs.Mercator(' accordingly with the region of interest\n",
    "fig, ax = plt.subplots(1, 1, subplot_kw=dict(projection=ccrs.Mercator(central_longitude=146)),figsize=(10,8))\n",
    "p=nc_r.radn.mean(dim=('year'), skipna=True).plot(x='lon', y='lat', transform=ccrs.PlateCarree(central_longitude=0),\n",
    "robust=True, cmap=mpl.cm.YlOrBr_r, zorder=1, add_colorbar=False)\n",
    "\n",
    "#Arranguing features, borders and axis labels \n",
    "gl=ax.gridlines(crs=ccrs.PlateCarree(), linewidth=0.01, color='w', alpha=0, linestyle='-', draw_labels=True,dms=True, x_inline=False, y_inline=False)\n",
    "ax.add_feature(cfeature.COASTLINE, edgecolor = \"grey\", linewidth=2)\n",
    "ax.add_feature(cfeature.STATES, edgecolor = \"grey\", linewidth=0.3, zorder=1)\n",
    "ax.add_feature(cfeature.OCEAN, color='white', zorder=2)\n",
    "ax.add_feature(cfeature.LAKES, color='white', zorder=1.5)\n",
    "ax.add_feature(cfeature.BORDERS, edgecolor = \"grey\", color='grey', linewidth=1)\n",
    "\n",
    "#you will need to update the 3 following lines accordingly with the region of interest\n",
    "ax.set_extent([143.6, 144.3, -40.3, -39.5], crs=ccrs.PlateCarree())\n",
    "gl.xlocator = mticker.FixedLocator([143.8, 144, 144.2])\n",
    "gl.ylocator = mticker.FixedLocator([-39.6, -39.8, -40, -40.2])\n",
    "gl.xlabels_top = False\n",
    "gl.ylabels_right = False\n",
    "gl.xformatter = LONGITUDE_FORMATTER\n",
    "gl.yformatter = LATITUDE_FORMATTER\n",
    "gl.xlabel_style = {'size': 17, 'color': 'k'}\n",
    "gl.ylabel_style = {'size': 17, 'color': 'k'}\n",
    "ax.outline_patch.set_visible(False)\n",
    "ax.spines['left'].set_visible(True)  \n",
    "ax.spines['bottom'].set_visible(True)\n",
    "\n",
    "#Setting colorbar attributes\n",
    "cb = plt.colorbar(p, orientation=\"vertical\", pad=0.02, shrink=0.9)\n",
    "cb.set_label(label='Solar Radiation ($MJ\\,m^{-2}$)', size='xx-large', weight='bold')\n",
    "cb.ax.tick_params(labelsize='xx-large')\n",
    "\n",
    "#Save the map to the current directory\n",
    "#plt.savefig(os.getcwd(), dpi=600, bbox_inches='tight', pad_inches=0)"
   ]
  },
  {
   "cell_type": "markdown",
   "metadata": {},
   "source": [
    "## Mapping minimum temperature\n",
    "\n",
    "> NOTE: Each 5 km grid represents the mean (across years) of the mean minimum temperature during the year"
   ]
  },
  {
   "cell_type": "code",
   "execution_count": 20,
   "metadata": {},
   "outputs": [
    {
     "data": {
      "image/png": "[encoded data removed]",
      "text/plain": [
       "<Figure size 720x576 with 2 Axes>"
      ]
     },
     "metadata": {
      "needs_background": "light"
     },
     "output_type": "display_data"
    }
   ],
   "source": [
    "#Packages required for the mapping functions\n",
    "from matplotlib import pyplot as plt\n",
    "import cartopy.crs as ccrs\n",
    "import matplotlib as mpl\n",
    "import cartopy.feature as cfeature\n",
    "import matplotlib.ticker as mticker\n",
    "from cartopy.mpl.gridliner import LONGITUDE_FORMATTER, LATITUDE_FORMATTER\n",
    "\n",
    "#Plotting single map with cumulative rain during the year <--update central longitude in 'projection=ccrs.Mercator(' accordingly with the region of interest\n",
    "fig, ax = plt.subplots(1, 1, subplot_kw=dict(projection=ccrs.Mercator(central_longitude=146)),figsize=(10,8))\n",
    "p=nc_t.mint.mean(dim=('year'), skipna=True).plot(x='lon', y='lat', transform=ccrs.PlateCarree(central_longitude=0),\n",
    "robust=True, cmap=mpl.cm.RdYlBu_r, zorder=1, add_colorbar=False)\n",
    "\n",
    "#Arranguing features, borders and axis labels \n",
    "gl=ax.gridlines(crs=ccrs.PlateCarree(), linewidth=0.01, color='w', alpha=0, linestyle='-', draw_labels=True,dms=True, x_inline=False, y_inline=False)\n",
    "ax.add_feature(cfeature.COASTLINE, edgecolor = \"grey\", linewidth=2)\n",
    "ax.add_feature(cfeature.STATES, edgecolor = \"grey\", linewidth=0.3, zorder=1)\n",
    "ax.add_feature(cfeature.OCEAN, color='white', zorder=2)\n",
    "ax.add_feature(cfeature.LAKES, color='white', zorder=1.5)\n",
    "ax.add_feature(cfeature.BORDERS, edgecolor = \"grey\", color='grey', linewidth=1)\n",
    "\n",
    "#you will need to update the 3 following lines accordingly with the region of interest\n",
    "ax.set_extent([143.6, 144.3, -40.3, -39.5], crs=ccrs.PlateCarree())\n",
    "gl.xlocator = mticker.FixedLocator([143.8, 144, 144.2])\n",
    "gl.ylocator = mticker.FixedLocator([-39.6, -39.8, -40, -40.2])\n",
    "gl.xlabels_top = False\n",
    "gl.ylabels_right = False\n",
    "gl.xformatter = LONGITUDE_FORMATTER\n",
    "gl.yformatter = LATITUDE_FORMATTER\n",
    "gl.xlabel_style = {'size': 17, 'color': 'k'}\n",
    "gl.ylabel_style = {'size': 17, 'color': 'k'}\n",
    "ax.outline_patch.set_visible(False)\n",
    "ax.spines['left'].set_visible(True)  \n",
    "ax.spines['bottom'].set_visible(True)\n",
    "\n",
    "#Setting colorbar attributes\n",
    "cb = plt.colorbar(p, orientation=\"vertical\", pad=0.02, shrink=0.9)\n",
    "cb.set_label(label='Minimum Temperature ($^{\\circ}$C)', size='xx-large', weight='bold')\n",
    "cb.ax.tick_params(labelsize='xx-large')\n",
    "\n",
    "#Save the map to the current directory\n",
    "#plt.savefig(os.getcwd(), dpi=600, bbox_inches='tight', pad_inches=0)"
   ]
  },
  {
   "cell_type": "markdown",
   "metadata": {},
   "source": [
    "## Mapping minimum temperature\n",
    "\n",
    "> NOTE: Each 5 km grid represents the mean (across years) of the mean maximum temperature during the year"
   ]
  },
  {
   "cell_type": "code",
   "execution_count": 22,
   "metadata": {},
   "outputs": [
    {
     "data": {
      "image/png": "[encoded data removed]",
      "text/plain": [
       "<Figure size 720x576 with 2 Axes>"
      ]
     },
     "metadata": {
      "needs_background": "light"
     },
     "output_type": "display_data"
    }
   ],
   "source": [
    "#Packages required for the mapping functions\n",
    "from matplotlib import pyplot as plt\n",
    "import cartopy.crs as ccrs\n",
    "import matplotlib as mpl\n",
    "import cartopy.feature as cfeature\n",
    "import matplotlib.ticker as mticker\n",
    "from cartopy.mpl.gridliner import LONGITUDE_FORMATTER, LATITUDE_FORMATTER\n",
    "\n",
    "#Plotting single map with cumulative rain during the year <--update central longitude in 'projection=ccrs.Mercator(' accordingly with the region of interest\n",
    "fig, ax = plt.subplots(1, 1, subplot_kw=dict(projection=ccrs.Mercator(central_longitude=146)),figsize=(10,8))\n",
    "p=nc_t.maxt.mean(dim=('year'), skipna=True).plot(x='lon', y='lat', transform=ccrs.PlateCarree(central_longitude=0),\n",
    "robust=True, cmap=mpl.cm.RdYlBu_r, zorder=1, add_colorbar=False)\n",
    "\n",
    "#Arranguing features, borders and axis labels \n",
    "gl=ax.gridlines(crs=ccrs.PlateCarree(), linewidth=0.01, color='w', alpha=0, linestyle='-', draw_labels=True,dms=True, x_inline=False, y_inline=False)\n",
    "ax.add_feature(cfeature.COASTLINE, edgecolor = \"grey\", linewidth=2)\n",
    "ax.add_feature(cfeature.STATES, edgecolor = \"grey\", linewidth=0.3, zorder=1)\n",
    "ax.add_feature(cfeature.OCEAN, color='white', zorder=2)\n",
    "ax.add_feature(cfeature.LAKES, color='white', zorder=1.5)\n",
    "ax.add_feature(cfeature.BORDERS, edgecolor = \"grey\", color='grey', linewidth=1)\n",
    "\n",
    "#you will need to update the 3 following lines accordingly with the region of interest\n",
    "ax.set_extent([143.6, 144.3, -40.3, -39.5], crs=ccrs.PlateCarree())\n",
    "gl.xlocator = mticker.FixedLocator([143.8, 144, 144.2])\n",
    "gl.ylocator = mticker.FixedLocator([-39.6, -39.8, -40, -40.2])\n",
    "gl.xlabels_top = False\n",
    "gl.ylabels_right = False\n",
    "gl.xformatter = LONGITUDE_FORMATTER\n",
    "gl.yformatter = LATITUDE_FORMATTER\n",
    "gl.xlabel_style = {'size': 17, 'color': 'k'}\n",
    "gl.ylabel_style = {'size': 17, 'color': 'k'}\n",
    "ax.outline_patch.set_visible(False)\n",
    "ax.spines['left'].set_visible(True)  \n",
    "ax.spines['bottom'].set_visible(True)\n",
    "\n",
    "#Setting colorbar attributes\n",
    "cb = plt.colorbar(p, orientation=\"vertical\", pad=0.02, shrink=0.9)\n",
    "cb.set_label(label='Maximum Temperature ($^{\\circ}$C)', size='xx-large', weight='bold')\n",
    "cb.ax.tick_params(labelsize='xx-large')\n",
    "\n",
    "#Save the map to the current directory\n",
    "#plt.savefig(os.getcwd(), dpi=600, bbox_inches='tight', pad_inches=0)"
   ]
  }
 ],
 "metadata": {
  "kernelspec": {
   "display_name": "Python 3",
   "language": "python",
   "name": "python3"
  },
  "language_info": {
   "codemirror_mode": {
    "name": "ipython",
    "version": 3
   },
   "file_extension": ".py",
   "mimetype": "text/x-python",
   "name": "python",
   "nbconvert_exporter": "python",
   "pygments_lexer": "ipython3",
   "version": "3.8.8"
  }
 },
 "nbformat": 4,
 "nbformat_minor": 4
}
