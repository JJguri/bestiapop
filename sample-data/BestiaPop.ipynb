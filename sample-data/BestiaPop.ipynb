{
 "cells": [
  {
   "cell_type": "code",
   "execution_count": null,
   "metadata": {},
   "outputs": [],
   "source": [
    "import numpy as np\n",
    "import os\n",
    "import pandas as pd\n",
    "\n",
    "from bestiapop import bestiapop"
   ]
  },
  {
   "cell_type": "markdown",
   "metadata": {},
   "source": [
    "## Storing climate data in a pandas dataframe\n",
    "\n",
    "In this example we will download data to a pandas dataframe\n",
    "\n",
    "### Define your climate extraction variables\n",
    "\n",
    "We need to define the scope of what type of data and output we expect from BestiaPop."
   ]
  },
  {
   "cell_type": "code",
   "execution_count": null,
   "metadata": {},
   "outputs": [],
   "source": [
    "# Define variables to pass in to ClimateBeast\n",
    "action='generate-climate-file'\n",
    "data_source='silo'\n",
    "year_range='2015-2016'\n",
    "climate_variables=['radiation', 'max_temp', 'min_temp', 'daily_rain']\n",
    "lat_range=[-41.15, -41.05]\n",
    "lon_range=[145.5, 145.6]\n",
    "output_type='dataframe' # <-- selecting pandas dataframe as output of our data processing\n",
    "output_path=None # <-- no dir since we are not dumping data to a file"
   ]
  },
  {
   "cell_type": "markdown",
   "metadata": {},
   "source": [
    "## Instantiate and run BestiaPop"
   ]
  },
  {
   "cell_type": "code",
   "execution_count": null,
   "metadata": {},
   "outputs": [],
   "source": [
    "climate_data = bestiapop.CLIMATEBEAST(\n",
    "    action=action,\n",
    "    data_source=data_source,\n",
    "    output_path=output_path,\n",
    "    output_type=output_type,\n",
    "    input_path=None,\n",
    "    climate_variables=climate_variables,\n",
    "    year_range=year_range,\n",
    "    lat_range=lat_range,\n",
    "    lon_range=lon_range,\n",
    "    multiprocessing=None\n",
    "    )"
   ]
  },
  {
   "cell_type": "code",
   "execution_count": null,
   "metadata": {},
   "outputs": [],
   "source": [
    "data = climate_data.process_records(action)"
   ]
  },
  {
   "cell_type": "code",
   "execution_count": null,
   "metadata": {},
   "outputs": [],
   "source": [
    "# let's show the dataframe\n",
    "data"
   ]
  },
  {
   "cell_type": "markdown",
   "metadata": {},
   "source": [
    "## Storing climate data in met files\n",
    "\n",
    "In this example we will download data to met files\n",
    "\n",
    "### Define your climate extraction variables\n",
    "\n",
    "We need to define the scope of what type of data and output we expect from BestiaPop."
   ]
  },
  {
   "cell_type": "code",
   "execution_count": null,
   "metadata": {},
   "outputs": [],
   "source": [
    "# Define variables to pass in to ClimateBeast\n",
    "action='generate-climate-file'\n",
    "data_source='silo'\n",
    "year_range='2015-2016'\n",
    "climate_variables=['radiation', 'max_temp', 'min_temp', 'daily_rain']\n",
    "lat_range=[-41.15, -41.05]\n",
    "lon_range=[145.5, 145.6]\n",
    "output_type='met'\n",
    "output_path=os.getcwd() # current dir"
   ]
  },
  {
   "cell_type": "markdown",
   "metadata": {},
   "source": [
    "## Instantiate and run BestiaPop"
   ]
  },
  {
   "cell_type": "code",
   "execution_count": null,
   "metadata": {},
   "outputs": [],
   "source": [
    "climate_data = bestiapop.CLIMATEBEAST(\n",
    "    action='generate-climate-file',\n",
    "    data_source=data_source,\n",
    "    output_path=output_path,\n",
    "    output_type=output_type,\n",
    "    input_path=None,\n",
    "    climate_variables=climate_variables,\n",
    "    year_range=year_range,\n",
    "    lat_range=lat_range,\n",
    "    lon_range=lon_range,\n",
    "    multiprocessing=None\n",
    "    )"
   ]
  },
  {
   "cell_type": "code",
   "execution_count": null,
   "metadata": {},
   "outputs": [],
   "source": [
    "climate_data.process_records(action) # no need to store the results in a variable since they are dumped to disk"
   ]
  },
  {
   "cell_type": "markdown",
   "metadata": {},
   "source": [
    "## Zip the generated MET files & Download them\n",
    "\n",
    "Let's now grab all the MET files and compress them. We need to get rid of the ocasional minus sign at the beginning of some \n",
    "MET files (depending on your lat/lon range), because `tar` does not do well with such filenames. In any case, this code should work for you.\n",
    "\n",
    "> NOTE: make sure to change the extension of the file, depending on which format you chose for the output."
   ]
  },
  {
   "cell_type": "code",
   "execution_count": null,
   "metadata": {},
   "outputs": [],
   "source": [
    "%%bash\n",
    "for f in *.met; do\n",
    "    mv -- \"$f\" \"bpop.${f}\"\n",
    "done\n",
    "\n",
    "tar chvfz bestiapop_files.tar.gz bpop*.met"
   ]
  },
  {
   "cell_type": "markdown",
   "metadata": {},
   "source": [
    "Search for your file by clicking `file --> open` in the top left menu of this JupterNotebook. You can download the compressed file and unzip in your own machine (we recommend you use `7zip` if using a Windows machine)."
   ]
  },
  {
   "attachments": {
    "image-2.png": {
     "image/png": "[encoded data removed]"
    }
   },
   "cell_type": "markdown",
   "metadata": {},
   "source": [
    "![image-2.png](attachment:image-2.png)"
   ]
  },
  {
   "cell_type": "markdown",
   "metadata": {},
   "source": [
    "## Working with lists of lat/lon combinations\n",
    "\n",
    "In this example we will download climate data based off a list of lat/lon datapoints\n",
    "\n",
    "### Define your climate extraction variables\n",
    "\n",
    "We need to define the scope of what type of data and output we expect from BestiaPop.\n",
    "\n",
    "> **NOTE**: the `coordinate_list` variable contains lists of lat/lon pairs where the first value is `latitutde` and the second value is `longitude`"
   ]
  },
  {
   "cell_type": "code",
   "execution_count": null,
   "metadata": {},
   "outputs": [],
   "source": [
    "# Define variables to pass in to ClimateBeast\n",
    "\n",
    "coordinate_list = [\n",
    "    [-41.15, 145.5],\n",
    "    [-43.45, 146.7],\n",
    "    [-41.25, 145.25],\n",
    "    [-42.70, 147.45],\n",
    "    [-41.50, 145.6]\n",
    "]\n",
    "\n",
    "action='generate-climate-file'\n",
    "data_source='silo'\n",
    "year_range='2015-2016'\n",
    "climate_variables=['radiation', 'max_temp', 'min_temp', 'daily_rain']\n",
    "output_type='dataframe'\n",
    "output_path=None"
   ]
  },
  {
   "cell_type": "markdown",
   "metadata": {},
   "source": [
    "## Instantiate and run BestiaPop\n",
    "\n",
    "In this instance we will iterate over the lat/lon combinations"
   ]
  },
  {
   "cell_type": "code",
   "execution_count": null,
   "metadata": {},
   "outputs": [],
   "source": [
    "final_df = pd.DataFrame()\n",
    "\n",
    "for coord in coordinate_list:\n",
    "    print('Fetching data for {}/{}'.format(coord[0], coord[1]))\n",
    "    climate_data = bestiapop.CLIMATEBEAST(\n",
    "        action='generate-climate-file',\n",
    "        data_source=data_source,\n",
    "        output_path=output_path,\n",
    "        output_type=output_type,\n",
    "        input_path=None,\n",
    "        climate_variables=climate_variables,\n",
    "        year_range=year_range,\n",
    "        lat_range=[coord[0]],\n",
    "        lon_range=[coord[1]],\n",
    "        multiprocessing=None\n",
    "        )\n",
    "    data = climate_data.process_records(action)\n",
    "    final_df = final_df.append(data, ignore_index=True)\n",
    "\n",
    "# Show the final dataframe\n",
    "final_df"
   ]
  }
 ],
 "metadata": {
  "kernelspec": {
   "display_name": "Python 3",
   "language": "python",
   "name": "python3"
  },
  "language_info": {
   "codemirror_mode": {
    "name": "ipython",
    "version": 3
   },
   "file_extension": ".py",
   "mimetype": "text/x-python",
   "name": "python",
   "nbconvert_exporter": "python",
   "pygments_lexer": "ipython3",
   "version": "3.7.0"
  }
 },
 "nbformat": 4,
 "nbformat_minor": 4
}
