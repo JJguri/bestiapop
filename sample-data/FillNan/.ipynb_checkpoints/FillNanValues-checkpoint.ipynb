{
 "cells": [
  {
   "cell_type": "markdown",
   "metadata": {},
   "source": [
    "## Fill Nan values\n",
    "\n",
    "This code was used to automatically fill -99 values using the average between the previous and the following values of each variable (radiation, maxt, mint and rain)"
   ]
  },
  {
   "cell_type": "code",
   "execution_count": 8,
   "metadata": {},
   "outputs": [],
   "source": [
    "import pandas as pd"
   ]
  },
  {
   "cell_type": "code",
   "execution_count": 9,
   "metadata": {},
   "outputs": [],
   "source": [
    "df= pd.read_csv(r'C:\\Users\\uqjojeda\\Dropbox\\github\\ClimateDataAutomation\\sample-data\\nan\\data.csv')"
   ]
  },
  {
   "cell_type": "code",
   "execution_count": 10,
   "metadata": {},
   "outputs": [
    {
     "data": {
      "text/html": [
       "<div>\n",
       "<style scoped>\n",
       "    .dataframe tbody tr th:only-of-type {\n",
       "        vertical-align: middle;\n",
       "    }\n",
       "\n",
       "    .dataframe tbody tr th {\n",
       "        vertical-align: top;\n",
       "    }\n",
       "\n",
       "    .dataframe thead th {\n",
       "        text-align: right;\n",
       "    }\n",
       "</style>\n",
       "<table border=\"1\" class=\"dataframe\">\n",
       "  <thead>\n",
       "    <tr style=\"text-align: right;\">\n",
       "      <th></th>\n",
       "      <th>day</th>\n",
       "      <th>radn</th>\n",
       "      <th>rain</th>\n",
       "      <th>tmax</th>\n",
       "      <th>tmin</th>\n",
       "    </tr>\n",
       "  </thead>\n",
       "  <tbody>\n",
       "    <tr>\n",
       "      <th>0</th>\n",
       "      <td>20160101</td>\n",
       "      <td>27.64</td>\n",
       "      <td>0.24</td>\n",
       "      <td>11.05</td>\n",
       "      <td>9.64</td>\n",
       "    </tr>\n",
       "    <tr>\n",
       "      <th>1</th>\n",
       "      <td>20160102</td>\n",
       "      <td>27.45</td>\n",
       "      <td>1.45</td>\n",
       "      <td>10.53</td>\n",
       "      <td>8.73</td>\n",
       "    </tr>\n",
       "    <tr>\n",
       "      <th>2</th>\n",
       "      <td>20160103</td>\n",
       "      <td>15.72</td>\n",
       "      <td>0.09</td>\n",
       "      <td>10.35</td>\n",
       "      <td>8.67</td>\n",
       "    </tr>\n",
       "    <tr>\n",
       "      <th>3</th>\n",
       "      <td>20160104</td>\n",
       "      <td>20.75</td>\n",
       "      <td>0.04</td>\n",
       "      <td>11.14</td>\n",
       "      <td>10.41</td>\n",
       "    </tr>\n",
       "    <tr>\n",
       "      <th>4</th>\n",
       "      <td>20160105</td>\n",
       "      <td>29.51</td>\n",
       "      <td>0.67</td>\n",
       "      <td>12.99</td>\n",
       "      <td>11.29</td>\n",
       "    </tr>\n",
       "    <tr>\n",
       "      <th>...</th>\n",
       "      <td>...</td>\n",
       "      <td>...</td>\n",
       "      <td>...</td>\n",
       "      <td>...</td>\n",
       "      <td>...</td>\n",
       "    </tr>\n",
       "    <tr>\n",
       "      <th>361</th>\n",
       "      <td>20161227</td>\n",
       "      <td>29.83</td>\n",
       "      <td>0.02</td>\n",
       "      <td>9.36</td>\n",
       "      <td>8.83</td>\n",
       "    </tr>\n",
       "    <tr>\n",
       "      <th>362</th>\n",
       "      <td>20161228</td>\n",
       "      <td>25.59</td>\n",
       "      <td>0.10</td>\n",
       "      <td>9.76</td>\n",
       "      <td>9.21</td>\n",
       "    </tr>\n",
       "    <tr>\n",
       "      <th>363</th>\n",
       "      <td>20161229</td>\n",
       "      <td>27.34</td>\n",
       "      <td>3.86</td>\n",
       "      <td>10.63</td>\n",
       "      <td>9.73</td>\n",
       "    </tr>\n",
       "    <tr>\n",
       "      <th>364</th>\n",
       "      <td>20161230</td>\n",
       "      <td>7.17</td>\n",
       "      <td>13.87</td>\n",
       "      <td>11.36</td>\n",
       "      <td>10.63</td>\n",
       "    </tr>\n",
       "    <tr>\n",
       "      <th>365</th>\n",
       "      <td>20161231</td>\n",
       "      <td>18.88</td>\n",
       "      <td>0.36</td>\n",
       "      <td>11.39</td>\n",
       "      <td>10.32</td>\n",
       "    </tr>\n",
       "  </tbody>\n",
       "</table>\n",
       "<p>366 rows × 5 columns</p>\n",
       "</div>"
      ],
      "text/plain": [
       "          day   radn   rain   tmax   tmin\n",
       "0    20160101  27.64   0.24  11.05   9.64\n",
       "1    20160102  27.45   1.45  10.53   8.73\n",
       "2    20160103  15.72   0.09  10.35   8.67\n",
       "3    20160104  20.75   0.04  11.14  10.41\n",
       "4    20160105  29.51   0.67  12.99  11.29\n",
       "..        ...    ...    ...    ...    ...\n",
       "361  20161227  29.83   0.02   9.36   8.83\n",
       "362  20161228  25.59   0.10   9.76   9.21\n",
       "363  20161229  27.34   3.86  10.63   9.73\n",
       "364  20161230   7.17  13.87  11.36  10.63\n",
       "365  20161231  18.88   0.36  11.39  10.32\n",
       "\n",
       "[366 rows x 5 columns]"
      ]
     },
     "execution_count": 10,
     "metadata": {},
     "output_type": "execute_result"
    }
   ],
   "source": [
    "df"
   ]
  },
  {
   "cell_type": "code",
   "execution_count": 11,
   "metadata": {},
   "outputs": [],
   "source": [
    "df[df < -98] = np.NaN\n",
    "df = (df.ffill()+df.bfill())/2"
   ]
  },
  {
   "cell_type": "code",
   "execution_count": 12,
   "metadata": {},
   "outputs": [],
   "source": [
    "#df.describe()\n",
    "df.to_csv(r'C:\\Users\\uqjojeda\\Dropbox\\github\\ClimateDataAutomation\\sample-data\\nan\\data2.csv')"
   ]
  }
 ],
 "metadata": {
  "kernelspec": {
   "display_name": "Python 3",
   "language": "python",
   "name": "python3"
  },
  "language_info": {
   "codemirror_mode": {
    "name": "ipython",
    "version": 3
   },
   "file_extension": ".py",
   "mimetype": "text/x-python",
   "name": "python",
   "nbconvert_exporter": "python",
   "pygments_lexer": "ipython3",
   "version": "3.8.5"
  }
 },
 "nbformat": 4,
 "nbformat_minor": 2
}
