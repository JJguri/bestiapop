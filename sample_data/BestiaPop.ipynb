{
 "cells": [
  {
   "cell_type": "code",
   "execution_count": null,
   "metadata": {},
   "outputs": [],
   "source": [
    "import pandas as pd\n",
    "import numpy as np\n",
    "\n",
    "from bestiapop import bestiapop"
   ]
  },
  {
   "cell_type": "markdown",
   "metadata": {},
   "source": [
    "## Storing climate data in a pandas dataframe\n",
    "\n",
    "In this example we will download data to a pandas dataframe\n",
    "\n",
    "### Define your climate extraction variables\n",
    "\n",
    "We need to define the scope of what type of data and output we expect from BestiaPop."
   ]
  },
  {
   "cell_type": "code",
   "execution_count": null,
   "metadata": {},
   "outputs": [],
   "source": [
    "# Define variables to pass in to ClimateBeast\n",
    "action='generate-climate-file'\n",
    "data_source='silo'\n",
    "year_range='2015-2016'\n",
    "climate_variables=['radiation', 'max_temp', 'min_temp', 'daily_rain']\n",
    "lat_range=[-41.15, -41.05]\n",
    "lon_range=[145.5, 145.6]\n",
    "output_type='dataframe' # <-- selecting pandas dataframe as output of our data processing\n",
    "output_path=None # <-- no dir since we are not dumping data to a file"
   ]
  },
  {
   "cell_type": "markdown",
   "metadata": {},
   "source": [
    "## Instantiate and run BestiaPop"
   ]
  },
  {
   "cell_type": "code",
   "execution_count": null,
   "metadata": {},
   "outputs": [],
   "source": [
    "climate_data = bestiapop.CLIMATEBEAST(\n",
    "    action='generate-climate-file',\n",
    "    data_source=data_source,\n",
    "    output_path=output_path,\n",
    "    output_type=output_type,\n",
    "    input_path=None,\n",
    "    climate_variables=climate_variables,\n",
    "    year_range=year_range,\n",
    "    lat_range=lat_range,\n",
    "    lon_range=lon_range,\n",
    "    multiprocessing=None\n",
    "    )"
   ]
  },
  {
   "cell_type": "code",
   "execution_count": null,
   "metadata": {},
   "outputs": [],
   "source": [
    "data = climate_data.process_records(action)"
   ]
  },
  {
   "cell_type": "code",
   "execution_count": null,
   "metadata": {},
   "outputs": [],
   "source": [
    "# let's show the dataframe\n",
    "data"
   ]
  },
  {
   "cell_type": "markdown",
   "metadata": {},
   "source": [
    "## Storing climate data in met files\n",
    "\n",
    "In this example we will download data to met files\n",
    "\n",
    "### Define your climate extraction variables\n",
    "\n",
    "We need to define the scope of what type of data and output we expect from BestiaPop."
   ]
  },
  {
   "cell_type": "code",
   "execution_count": null,
   "metadata": {},
   "outputs": [],
   "source": [
    "# Define variables to pass in to ClimateBeast\n",
    "action='generate-climate-file'\n",
    "data_source='silo'\n",
    "year_range='2015-2016'\n",
    "climate_variables=['radiation', 'max_temp', 'min_temp', 'daily_rain']\n",
    "lat_range=[-41.15, -41.05]\n",
    "lon_range=[145.5, 145.6]\n",
    "output_type='met'\n",
    "output_path='.\\\\' # current dir"
   ]
  },
  {
   "cell_type": "markdown",
   "metadata": {},
   "source": [
    "## Instantiate and run BestiaPop"
   ]
  },
  {
   "cell_type": "code",
   "execution_count": null,
   "metadata": {},
   "outputs": [],
   "source": [
    "climate_data = bestiapop.CLIMATEBEAST(\n",
    "    action='generate-climate-file',\n",
    "    data_source=data_source,\n",
    "    output_path=output_path,\n",
    "    output_type=output_type,\n",
    "    input_path=None,\n",
    "    climate_variables=climate_variables,\n",
    "    year_range=year_range,\n",
    "    lat_range=lat_range,\n",
    "    lon_range=lon_range,\n",
    "    multiprocessing=None\n",
    "    )"
   ]
  },
  {
   "cell_type": "code",
   "execution_count": null,
   "metadata": {},
   "outputs": [],
   "source": [
    "climate_data.process_records(action) # no need to store the results in a variable since they are dumped to disk"
   ]
  }
 ],
 "metadata": {
  "kernelspec": {
   "display_name": "Python 3",
   "language": "python",
   "name": "python3"
  },
  "language_info": {
   "codemirror_mode": {
    "name": "ipython",
    "version": 3
   },
   "file_extension": ".py",
   "mimetype": "text/x-python",
   "name": "python",
   "nbconvert_exporter": "python",
   "pygments_lexer": "ipython3",
   "version": "3.7.9"
  }
 },
 "nbformat": 4,
 "nbformat_minor": 4
}
