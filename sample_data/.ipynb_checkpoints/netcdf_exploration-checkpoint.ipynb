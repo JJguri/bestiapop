{
 "cells": [
  {
   "cell_type": "code",
   "execution_count": 253,
   "metadata": {},
   "outputs": [],
   "source": [
    "import xarray as xr\n",
    "value_array2015 = xr.open_dataset(r'D:\\Netcdf\\2015.max_temp.nc')"
   ]
  },
  {
   "cell_type": "code",
   "execution_count": 254,
   "metadata": {
    "scrolled": false
   },
   "outputs": [
    {
     "data": {
      "text/plain": [
       "<bound method Mapping.values of <xarray.Dataset>\n",
       "Dimensions:   (lat: 681, lon: 841, time: 365)\n",
       "Coordinates:\n",
       "  * lat       (lat) float64 -44.0 -43.95 -43.9 -43.85 ... -10.1 -10.05 -10.0\n",
       "  * lon       (lon) float64 112.0 112.0 112.1 112.2 ... 153.8 153.9 153.9 154.0\n",
       "  * time      (time) datetime64[ns] 2015-01-01 2015-01-02 ... 2015-12-31\n",
       "Data variables:\n",
       "    max_temp  (time, lat, lon) float32 ...\n",
       "    crs       |S1 ...\n",
       "Attributes:\n",
       "    institution:       Queensland Government, Department of Environment and S...\n",
       "    disclaimer:        1. The user accepts all responsibility and risks assoc...\n",
       "    department_short:  DES\n",
       "    copyright:         Copyright - the State of Queensland Department of Envi...\n",
       "    department:        Department of Environment and Science\n",
       "    reference:         Jeffrey, S.J., Carter, J.O., Moodie, K.B.A. and Beswic...\n",
       "    site_url:          http://silo.longpaddock.qld.gov.au\n",
       "    raster_source:     Gridded surface was created by interpolating observati...\n",
       "    metadata_url:      http://qldspatial.information.qld.gov.au/catalogueadmi...>"
      ]
     },
     "execution_count": 254,
     "metadata": {},
     "output_type": "execute_result"
    }
   ],
   "source": [
    "value_array2015.values"
   ]
  },
  {
   "cell_type": "code",
   "execution_count": 255,
   "metadata": {},
   "outputs": [],
   "source": [
    "value_array2018 = xr.open_dataset(r'D:\\Netcdf\\2018.max_temp.nc')"
   ]
  },
  {
   "cell_type": "code",
   "execution_count": 256,
   "metadata": {},
   "outputs": [
    {
     "data": {
      "text/plain": [
       "<bound method Mapping.values of <xarray.Dataset>\n",
       "Dimensions:   (lat: 681, lon: 841, time: 365)\n",
       "Coordinates:\n",
       "  * lat       (lat) float64 -44.0 -43.95 -43.9 -43.85 ... -10.1 -10.05 -10.0\n",
       "  * lon       (lon) float64 112.0 112.0 112.1 112.2 ... 153.8 153.9 153.9 154.0\n",
       "  * time      (time) datetime64[ns] 2018-01-01 2018-01-02 ... 2018-12-31\n",
       "Data variables:\n",
       "    max_temp  (time, lat, lon) float32 ...\n",
       "    crs       |S1 ...\n",
       "Attributes:\n",
       "    department:        Department of Environment and Science\n",
       "    department_short:  DES\n",
       "    copyright:         Copyright - the State of Queensland Department of Envi...\n",
       "    site_url:          http://www.longpaddock.qld.gov.au\n",
       "    institution:       Queensland Government, Department of Environment and S...\n",
       "    raster_source:     Gridded surface was created by interpolating observati...\n",
       "    metadata_url:      http://qldspatial.information.qld.gov.au/catalogueadmi...\n",
       "    reference:         Jeffrey, S.J., Carter, J.O., Moodie, K.B.A. and Beswic...\n",
       "    disclaimer:        1. The user accepts all responsibility and risks assoc...>"
      ]
     },
     "execution_count": 256,
     "metadata": {},
     "output_type": "execute_result"
    }
   ],
   "source": [
    "value_array2018.values"
   ]
  }
 ],
 "metadata": {
  "kernelspec": {
   "display_name": "Python 3",
   "language": "python",
   "name": "python3"
  },
  "language_info": {
   "codemirror_mode": {
    "name": "ipython",
    "version": 3
   },
   "file_extension": ".py",
   "mimetype": "text/x-python",
   "name": "python",
   "nbconvert_exporter": "python",
   "pygments_lexer": "ipython3",
   "version": "3.7.4"
  }
 },
 "nbformat": 4,
 "nbformat_minor": 2
}
