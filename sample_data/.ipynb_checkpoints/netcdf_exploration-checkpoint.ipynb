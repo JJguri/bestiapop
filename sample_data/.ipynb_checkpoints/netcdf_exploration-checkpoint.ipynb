{
 "cells": [
  {
   "cell_type": "code",
   "execution_count": 17,
   "metadata": {},
   "outputs": [
    {
     "data": {
      "text/html": [
       "<pre>&lt;xarray.Dataset&gt;\n",
       "Dimensions:     (lat: 681, lon: 841, time: 365)\n",
       "Coordinates:\n",
       "  * lat         (lat) float64 -44.0 -43.95 -43.9 -43.85 ... -10.1 -10.05 -10.0\n",
       "  * lon         (lon) float64 112.0 112.0 112.1 112.2 ... 153.9 153.9 154.0\n",
       "  * time        (time) datetime64[ns] 2018-01-01 2018-01-02 ... 2018-12-31\n",
       "Data variables:\n",
       "    daily_rain  (time, lat, lon) float32 ...\n",
       "    crs         |S1 ...\n",
       "Attributes:\n",
       "    department:        Department of Environment and Science\n",
       "    department_short:  DES\n",
       "    institution:       Queensland Government, Department of Environment and S...\n",
       "    metadata_url:      http://qldspatial.information.qld.gov.au/catalogueadmi...\n",
       "    copyright:         Copyright - the State of Queensland Department of Envi...\n",
       "    site_url:          http://www.longpaddock.qld.gov.au\n",
       "    raster_source:     Gridded surface was created by interpolating observati...\n",
       "    reference:         Jeffrey, S.J., Carter, J.O., Moodie, K.B.A. and Beswic...\n",
       "    disclaimer:        1. The user accepts all responsibility and risks assoc...</pre>"
      ],
      "text/plain": [
       "<xarray.Dataset>\n",
       "Dimensions:     (lat: 681, lon: 841, time: 365)\n",
       "Coordinates:\n",
       "  * lat         (lat) float64 -44.0 -43.95 -43.9 -43.85 ... -10.1 -10.05 -10.0\n",
       "  * lon         (lon) float64 112.0 112.0 112.1 112.2 ... 153.9 153.9 154.0\n",
       "  * time        (time) datetime64[ns] 2018-01-01 2018-01-02 ... 2018-12-31\n",
       "Data variables:\n",
       "    daily_rain  (time, lat, lon) float32 ...\n",
       "    crs         |S1 ...\n",
       "Attributes:\n",
       "    department:        Department of Environment and Science\n",
       "    department_short:  DES\n",
       "    institution:       Queensland Government, Department of Environment and S...\n",
       "    metadata_url:      http://qldspatial.information.qld.gov.au/catalogueadmi...\n",
       "    copyright:         Copyright - the State of Queensland Department of Envi...\n",
       "    site_url:          http://www.longpaddock.qld.gov.au\n",
       "    raster_source:     Gridded surface was created by interpolating observati...\n",
       "    reference:         Jeffrey, S.J., Carter, J.O., Moodie, K.B.A. and Beswic...\n",
       "    disclaimer:        1. The user accepts all responsibility and risks assoc..."
      ]
     },
     "execution_count": 17,
     "metadata": {},
     "output_type": "execute_result"
    }
   ],
   "source": [
    "import xarray as xr\n",
    "value_array = xr.open_dataset(r'C:\\Users\\jjojeda\\Dropbox\\netcdf\\2018.daily_rain.nc')\n",
    "value_array"
   ]
  },
  {
   "cell_type": "code",
   "execution_count": 18,
   "metadata": {},
   "outputs": [
    {
     "data": {
      "text/html": [
       "<pre>&lt;xarray.DataArray &#x27;time&#x27; (time: 365)&gt;\n",
       "array([&#x27;2018-01-01T00:00:00.000000000&#x27;, &#x27;2018-01-02T00:00:00.000000000&#x27;,\n",
       "       &#x27;2018-01-03T00:00:00.000000000&#x27;, ..., &#x27;2018-12-29T00:00:00.000000000&#x27;,\n",
       "       &#x27;2018-12-30T00:00:00.000000000&#x27;, &#x27;2018-12-31T00:00:00.000000000&#x27;],\n",
       "      dtype=&#x27;datetime64[ns]&#x27;)\n",
       "Coordinates:\n",
       "  * time     (time) datetime64[ns] 2018-01-01 2018-01-02 ... 2018-12-31\n",
       "Attributes:\n",
       "    axis:     T</pre>"
      ],
      "text/plain": [
       "<xarray.DataArray 'time' (time: 365)>\n",
       "array(['2018-01-01T00:00:00.000000000', '2018-01-02T00:00:00.000000000',\n",
       "       '2018-01-03T00:00:00.000000000', ..., '2018-12-29T00:00:00.000000000',\n",
       "       '2018-12-30T00:00:00.000000000', '2018-12-31T00:00:00.000000000'],\n",
       "      dtype='datetime64[ns]')\n",
       "Coordinates:\n",
       "  * time     (time) datetime64[ns] 2018-01-01 2018-01-02 ... 2018-12-31\n",
       "Attributes:\n",
       "    axis:     T"
      ]
     },
     "execution_count": 18,
     "metadata": {},
     "output_type": "execute_result"
    }
   ],
   "source": [
    "value_array.time"
   ]
  }
 ],
 "metadata": {
  "kernelspec": {
   "display_name": "Python 3",
   "language": "python",
   "name": "python3"
  },
  "language_info": {
   "codemirror_mode": {
    "name": "ipython",
    "version": 3
   },
   "file_extension": ".py",
   "mimetype": "text/x-python",
   "name": "python",
   "nbconvert_exporter": "python",
   "pygments_lexer": "ipython3",
   "version": "3.7.4"
  }
 },
 "nbformat": 4,
 "nbformat_minor": 2
}
