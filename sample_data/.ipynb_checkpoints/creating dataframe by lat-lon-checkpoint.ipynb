{
 "cells": [
  {
   "cell_type": "code",
   "execution_count": 2,
   "metadata": {},
   "outputs": [],
   "source": [
    "#Required packages\n",
    "import pandas as pd"
   ]
  },
  {
   "cell_type": "code",
   "execution_count": 68,
   "metadata": {},
   "outputs": [],
   "source": [
    "#Loading the original climate dataset\n",
    "df=pd.read_csv(r'C:\\Users\\jjojeda\\Dropbox\\GitHub\\ClimateDataAutomation\\sample_data\\mega_data_frame_pre_met.csv')"
   ]
  },
  {
   "cell_type": "code",
   "execution_count": 69,
   "metadata": {},
   "outputs": [
    {
     "data": {
      "text/plain": [
       "lon               0\n",
       "lat               0\n",
       "year              0\n",
       "days              0\n",
       "radiation     13158\n",
       "max_temp      13158\n",
       "min_temp      13158\n",
       "daily_rain    13158\n",
       "dtype: int64"
      ]
     },
     "execution_count": 69,
     "metadata": {},
     "output_type": "execute_result"
    }
   ],
   "source": [
    "df.isnull().sum(axis = 0)"
   ]
  },
  {
   "cell_type": "code",
   "execution_count": 75,
   "metadata": {},
   "outputs": [
    {
     "data": {
      "text/plain": [
       "2920"
      ]
     },
     "execution_count": 75,
     "metadata": {},
     "output_type": "execute_result"
    }
   ],
   "source": [
    "2*2*2*365"
   ]
  },
  {
   "cell_type": "code",
   "execution_count": 70,
   "metadata": {},
   "outputs": [],
   "source": [
    "#Rename variables\n",
    "df=df.rename(columns={\"days\": \"day\",\"daily_rain\": \"rain\",'min_temp':'mint','max_temp':'maxt','radiation':'radn'})"
   ]
  },
  {
   "cell_type": "code",
   "execution_count": 76,
   "metadata": {},
   "outputs": [],
   "source": [
    "df0=df.loc[df['lon'] == 145.5]"
   ]
  },
  {
   "cell_type": "code",
   "execution_count": 77,
   "metadata": {},
   "outputs": [],
   "source": [
    "df0=df0.loc[df['lat'] == -41.1]"
   ]
  },
  {
   "cell_type": "code",
   "execution_count": 78,
   "metadata": {},
   "outputs": [],
   "source": [
    "df0=df0.loc[df['year'] == 2015]"
   ]
  },
  {
   "cell_type": "code",
   "execution_count": 79,
   "metadata": {},
   "outputs": [
    {
     "data": {
      "text/html": [
       "<div>\n",
       "<style scoped>\n",
       "    .dataframe tbody tr th:only-of-type {\n",
       "        vertical-align: middle;\n",
       "    }\n",
       "\n",
       "    .dataframe tbody tr th {\n",
       "        vertical-align: top;\n",
       "    }\n",
       "\n",
       "    .dataframe thead th {\n",
       "        text-align: right;\n",
       "    }\n",
       "</style>\n",
       "<table border=\"1\" class=\"dataframe\">\n",
       "  <thead>\n",
       "    <tr style=\"text-align: right;\">\n",
       "      <th></th>\n",
       "      <th>lon</th>\n",
       "      <th>lat</th>\n",
       "      <th>year</th>\n",
       "      <th>day</th>\n",
       "      <th>radn</th>\n",
       "      <th>maxt</th>\n",
       "      <th>mint</th>\n",
       "      <th>rain</th>\n",
       "    </tr>\n",
       "  </thead>\n",
       "  <tbody>\n",
       "    <tr>\n",
       "      <td>0</td>\n",
       "      <td>145.5</td>\n",
       "      <td>-41.1</td>\n",
       "      <td>2015</td>\n",
       "      <td>1</td>\n",
       "      <td>20.2</td>\n",
       "      <td>NaN</td>\n",
       "      <td>NaN</td>\n",
       "      <td>NaN</td>\n",
       "    </tr>\n",
       "    <tr>\n",
       "      <td>730</td>\n",
       "      <td>145.5</td>\n",
       "      <td>-41.1</td>\n",
       "      <td>2015</td>\n",
       "      <td>1</td>\n",
       "      <td>20.6</td>\n",
       "      <td>NaN</td>\n",
       "      <td>NaN</td>\n",
       "      <td>NaN</td>\n",
       "    </tr>\n",
       "    <tr>\n",
       "      <td>4386</td>\n",
       "      <td>145.5</td>\n",
       "      <td>-41.1</td>\n",
       "      <td>2015</td>\n",
       "      <td>1</td>\n",
       "      <td>NaN</td>\n",
       "      <td>18.1</td>\n",
       "      <td>NaN</td>\n",
       "      <td>NaN</td>\n",
       "    </tr>\n",
       "    <tr>\n",
       "      <td>5116</td>\n",
       "      <td>145.5</td>\n",
       "      <td>-41.1</td>\n",
       "      <td>2015</td>\n",
       "      <td>1</td>\n",
       "      <td>NaN</td>\n",
       "      <td>19.4</td>\n",
       "      <td>NaN</td>\n",
       "      <td>NaN</td>\n",
       "    </tr>\n",
       "    <tr>\n",
       "      <td>8772</td>\n",
       "      <td>145.5</td>\n",
       "      <td>-41.1</td>\n",
       "      <td>2015</td>\n",
       "      <td>1</td>\n",
       "      <td>NaN</td>\n",
       "      <td>NaN</td>\n",
       "      <td>9.5</td>\n",
       "      <td>NaN</td>\n",
       "    </tr>\n",
       "    <tr>\n",
       "      <td>9502</td>\n",
       "      <td>145.5</td>\n",
       "      <td>-41.1</td>\n",
       "      <td>2015</td>\n",
       "      <td>1</td>\n",
       "      <td>NaN</td>\n",
       "      <td>NaN</td>\n",
       "      <td>10.4</td>\n",
       "      <td>NaN</td>\n",
       "    </tr>\n",
       "    <tr>\n",
       "      <td>13158</td>\n",
       "      <td>145.5</td>\n",
       "      <td>-41.1</td>\n",
       "      <td>2015</td>\n",
       "      <td>1</td>\n",
       "      <td>NaN</td>\n",
       "      <td>NaN</td>\n",
       "      <td>NaN</td>\n",
       "      <td>2.3</td>\n",
       "    </tr>\n",
       "    <tr>\n",
       "      <td>13888</td>\n",
       "      <td>145.5</td>\n",
       "      <td>-41.1</td>\n",
       "      <td>2015</td>\n",
       "      <td>1</td>\n",
       "      <td>NaN</td>\n",
       "      <td>NaN</td>\n",
       "      <td>NaN</td>\n",
       "      <td>1.6</td>\n",
       "    </tr>\n",
       "  </tbody>\n",
       "</table>\n",
       "</div>"
      ],
      "text/plain": [
       "         lon   lat  year  day  radn  maxt  mint  rain\n",
       "0      145.5 -41.1  2015    1  20.2   NaN   NaN   NaN\n",
       "730    145.5 -41.1  2015    1  20.6   NaN   NaN   NaN\n",
       "4386   145.5 -41.1  2015    1   NaN  18.1   NaN   NaN\n",
       "5116   145.5 -41.1  2015    1   NaN  19.4   NaN   NaN\n",
       "8772   145.5 -41.1  2015    1   NaN   NaN   9.5   NaN\n",
       "9502   145.5 -41.1  2015    1   NaN   NaN  10.4   NaN\n",
       "13158  145.5 -41.1  2015    1   NaN   NaN   NaN   2.3\n",
       "13888  145.5 -41.1  2015    1   NaN   NaN   NaN   1.6"
      ]
     },
     "execution_count": 79,
     "metadata": {},
     "output_type": "execute_result"
    }
   ],
   "source": [
    "df0=df0.loc[df['day'] == 1]\n",
    "df0"
   ]
  },
  {
   "cell_type": "code",
   "execution_count": 80,
   "metadata": {},
   "outputs": [
    {
     "data": {
      "text/html": [
       "<div>\n",
       "<style scoped>\n",
       "    .dataframe tbody tr th:only-of-type {\n",
       "        vertical-align: middle;\n",
       "    }\n",
       "\n",
       "    .dataframe tbody tr th {\n",
       "        vertical-align: top;\n",
       "    }\n",
       "\n",
       "    .dataframe thead th {\n",
       "        text-align: right;\n",
       "    }\n",
       "</style>\n",
       "<table border=\"1\" class=\"dataframe\">\n",
       "  <thead>\n",
       "    <tr style=\"text-align: right;\">\n",
       "      <th></th>\n",
       "      <th>lon</th>\n",
       "      <th>lat</th>\n",
       "      <th>year</th>\n",
       "      <th>day</th>\n",
       "      <th>radn</th>\n",
       "      <th>maxt</th>\n",
       "      <th>mint</th>\n",
       "      <th>rain</th>\n",
       "    </tr>\n",
       "  </thead>\n",
       "  <tbody>\n",
       "    <tr>\n",
       "      <td>0</td>\n",
       "      <td>145.5</td>\n",
       "      <td>-41.1</td>\n",
       "      <td>2015</td>\n",
       "      <td>1</td>\n",
       "      <td>20.2</td>\n",
       "      <td>18.1</td>\n",
       "      <td>9.5</td>\n",
       "      <td>2.3</td>\n",
       "    </tr>\n",
       "    <tr>\n",
       "      <td>730</td>\n",
       "      <td>145.5</td>\n",
       "      <td>-41.1</td>\n",
       "      <td>2015</td>\n",
       "      <td>1</td>\n",
       "      <td>20.6</td>\n",
       "      <td>18.1</td>\n",
       "      <td>9.5</td>\n",
       "      <td>2.3</td>\n",
       "    </tr>\n",
       "    <tr>\n",
       "      <td>5116</td>\n",
       "      <td>145.5</td>\n",
       "      <td>-41.1</td>\n",
       "      <td>2015</td>\n",
       "      <td>1</td>\n",
       "      <td>20.6</td>\n",
       "      <td>19.4</td>\n",
       "      <td>9.5</td>\n",
       "      <td>2.3</td>\n",
       "    </tr>\n",
       "    <tr>\n",
       "      <td>9502</td>\n",
       "      <td>145.5</td>\n",
       "      <td>-41.1</td>\n",
       "      <td>2015</td>\n",
       "      <td>1</td>\n",
       "      <td>20.6</td>\n",
       "      <td>19.4</td>\n",
       "      <td>10.4</td>\n",
       "      <td>2.3</td>\n",
       "    </tr>\n",
       "    <tr>\n",
       "      <td>13888</td>\n",
       "      <td>145.5</td>\n",
       "      <td>-41.1</td>\n",
       "      <td>2015</td>\n",
       "      <td>1</td>\n",
       "      <td>20.6</td>\n",
       "      <td>19.4</td>\n",
       "      <td>10.4</td>\n",
       "      <td>1.6</td>\n",
       "    </tr>\n",
       "  </tbody>\n",
       "</table>\n",
       "</div>"
      ],
      "text/plain": [
       "         lon   lat  year  day  radn  maxt  mint  rain\n",
       "0      145.5 -41.1  2015    1  20.2  18.1   9.5   2.3\n",
       "730    145.5 -41.1  2015    1  20.6  18.1   9.5   2.3\n",
       "5116   145.5 -41.1  2015    1  20.6  19.4   9.5   2.3\n",
       "9502   145.5 -41.1  2015    1  20.6  19.4  10.4   2.3\n",
       "13888  145.5 -41.1  2015    1  20.6  19.4  10.4   1.6"
      ]
     },
     "execution_count": 80,
     "metadata": {},
     "output_type": "execute_result"
    }
   ],
   "source": [
    "df0.ffill().bfill().drop_duplicates()"
   ]
  },
  {
   "cell_type": "code",
   "execution_count": 36,
   "metadata": {},
   "outputs": [],
   "source": [
    "df1= df.copy()\n",
    "df2= df.copy()"
   ]
  },
  {
   "cell_type": "code",
   "execution_count": 46,
   "metadata": {},
   "outputs": [],
   "source": [
    "df_final = pd.merge(df, df1, on=['lon','lat','year','day'])"
   ]
  },
  {
   "cell_type": "code",
   "execution_count": 48,
   "metadata": {},
   "outputs": [],
   "source": [
    "df_final = pd.merge(df_final, df2, on=['lon','lat','year','day'])"
   ]
  },
  {
   "cell_type": "code",
   "execution_count": 50,
   "metadata": {},
   "outputs": [],
   "source": [
    "df_final.to_csv(r'C:\\Users\\jjojeda\\Dropbox\\GitHub\\ClimateDataAutomation\\sample_data\\data.csv') "
   ]
  }
 ],
 "metadata": {
  "kernelspec": {
   "display_name": "Python 3",
   "language": "python",
   "name": "python3"
  },
  "language_info": {
   "codemirror_mode": {
    "name": "ipython",
    "version": 3
   },
   "file_extension": ".py",
   "mimetype": "text/x-python",
   "name": "python",
   "nbconvert_exporter": "python",
   "pygments_lexer": "ipython3",
   "version": "3.7.4"
  }
 },
 "nbformat": 4,
 "nbformat_minor": 2
}
